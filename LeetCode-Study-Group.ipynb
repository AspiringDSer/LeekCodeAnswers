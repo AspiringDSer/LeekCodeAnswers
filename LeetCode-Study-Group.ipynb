{
 "cells": [
  {
   "cell_type": "markdown",
   "id": "deb52e5f",
   "metadata": {},
   "source": [
    "# LeetCode Solutions Notebook"
   ]
  },
  {
   "cell_type": "markdown",
   "id": "158e5903",
   "metadata": {},
   "source": [
    "**Data Scientist Coding Interviews**\n",
    "* Easy to medium level of LeetCode Questions\n",
    "\n",
    "**Data Structures** \n",
    "* Arrays\n",
    "* Hash maps/Dictionary\n",
    "* Heaps\n",
    "* Sets\n",
    "* Stack/Queues \n",
    "* Strings\n",
    "* Tree\n",
    "\n",
    "**Algorithms**\n",
    "* Binary Search\n",
    "* Recursion\n",
    "* Sorting\n",
    "* Dynamic Programming \n",
    "\n",
    "Note: Good [video](https://www.youtube.com/watch?v=hAqg2dlNeUc&t=594s&ab_channel=DataInterviewPro) on DS Coding Interviews. Video explains other aspects of the Interview too"
   ]
  },
  {
   "cell_type": "markdown",
   "id": "95eb6491",
   "metadata": {},
   "source": [
    "### Sample Schedule\n",
    "\n",
    "Week 1: Pick 2 from your list \n",
    "\n",
    "Week 2: Pick 1 from your list + 1 from each non-your-list ^_^ \n",
    "\n",
    "Week 3: Repeat week 2"
   ]
  },
  {
   "cell_type": "markdown",
   "id": "25a93212",
   "metadata": {},
   "source": [
    "NOTE: I'll update the list when needed. Please **BOLD** your question when you have completed and submitted with the answers below. "
   ]
  },
  {
   "cell_type": "markdown",
   "id": "b00e31c5",
   "metadata": {},
   "source": [
    "**Jason**\n",
    "\n",
    "**1528 - Shuffle String**\n",
    "\n",
    "**1512 - Number of Good Pairs** \n",
    "\n",
    "**1480 - Running Sum of 1d Array**\n",
    "\n",
    "**1431 - Kids With the Greatest Number of Candies**\n",
    "\n",
    "**1342 - Number of Steps to Reduce a Number to Zero**\n",
    "\n",
    "**1389 - Create Target Array in the Given Order**\n",
    "\n",
    "**1913 - Maximum Product Difference Between Two Pairs (array)**\n",
    "\n",
    "1656 - Design an Ordered Stream (array)\n",
    "\n",
    "1588 - Sum of All Odd Length Subarrays (array) \n",
    "\n",
    "1832 - Check if the Sentence Is Pangram (hash table)\n",
    "\n",
    "1684 - Count the Number of Consistent Strings (hash table)\n",
    "\n",
    "804\t- Unique Morse Code Words (hash table)"
   ]
  },
  {
   "cell_type": "markdown",
   "id": "91b58ab8",
   "metadata": {},
   "source": [
    "**Katya** \n",
    "\n",
    "1603 - Design Parking System\n",
    "\n",
    "771 - Jewels and Stones\n",
    "\n",
    "1108 - Defanging an IP Address\n",
    "\n",
    "1672 - Richest Customer Wealth\n",
    "\n",
    "1720 - Decode XORed Array\n",
    "\n",
    "1678 - Goal Parser Interpretation"
   ]
  },
  {
   "cell_type": "markdown",
   "id": "7d757674",
   "metadata": {},
   "source": [
    "**Yash** \n",
    "\n",
    "1470 - Shuffle the Array\n",
    "\n",
    "1365 - How Many Numbers Are Smaller Than the Current Number\n",
    "\n",
    "1929 - Concatenation of Array\n",
    "\n",
    "1920 - Build Array from Permutation\n",
    "\n",
    "1281 - Subtract the Product and Sum of Digits of an Integer\n",
    "\n",
    "1313 - Decompress Run-Length Encoded List"
   ]
  },
  {
   "cell_type": "markdown",
   "id": "95a9444c",
   "metadata": {},
   "source": [
    "**Sam**\n",
    "\n",
    "1773 - Count Items Matching a Rule\n",
    "\n",
    "1221 - Split a String in Balanced Strings\n",
    "\n",
    "1791 - Find Center of Star Graph\n",
    "\n",
    "1486 - XOR Operation in an Array\n",
    "\n",
    "938 - Range Sum of BST\n",
    "\n",
    "1859 - Sorting the Sentence"
   ]
  },
  {
   "cell_type": "markdown",
   "id": "b55fa792",
   "metadata": {},
   "source": [
    "### Example\n",
    "LeekCode Number: 1929 - Concatenation of Array"
   ]
  },
  {
   "cell_type": "code",
   "execution_count": null,
   "id": "a36a995d",
   "metadata": {},
   "outputs": [],
   "source": [
    "# Code + Comments here"
   ]
  },
  {
   "cell_type": "code",
   "execution_count": null,
   "id": "e291a163",
   "metadata": {},
   "outputs": [],
   "source": []
  },
  {
   "cell_type": "markdown",
   "id": "0bf38c8a",
   "metadata": {},
   "source": [
    "### Katya \n",
    "\n",
    "#### 1603 - Design Parking System \n",
    "\n",
    "Design a parking system for a parking lot. The parking lot has three kinds of parking spaces: big, medium, and small, with a fixed number of slots for each size.\n",
    "\n",
    "Implement the ParkingSystem class:\n",
    "\n",
    "- `ParkingSystem(int big, int medium, int small)` Initializes object of the `ParkingSystem` class. The number of slots for each parking space are given as part of the constructor.\n",
    "- `bool` `addCar`(int `carType`) Checks whether there is a parking space of `carType` for the car that wants to get into the parking lot. `carType` can be of three kinds: big, medium, or small, which are represented by 1, 2, and 3 respectively. A car can only park in a parking space of its `carType`. If there is no space available, return false, else park the car in that size space and return true.\n",
    "\n",
    "\n",
    "Input: \n",
    "`[\"ParkingSystem\",\"addCar\",\"addCar\",\"addCar\",\"addCar\"] [[1,1,0],[1],[2],[3],[1]]`"
   ]
  },
  {
   "cell_type": "code",
   "execution_count": 3,
   "id": "41f23452",
   "metadata": {
    "ExecuteTime": {
     "end_time": "2021-07-13T16:48:44.739323Z",
     "start_time": "2021-07-13T16:48:44.731321Z"
    }
   },
   "outputs": [],
   "source": [
    "class ParkingSystem:\n",
    "\n",
    "    def __init__(self, big: int, medium: int, small: int):\n",
    "        self.cars = [big, medium, small]\n",
    "\n",
    "    def addCar(self, carType: int) -> bool:\n",
    "        if self.cars[carType-1] > 0: \n",
    "            self.cars[carType-1]-=1\n",
    "            return True\n",
    "        else:\n",
    "            return False\n",
    "            \n",
    "\n",
    "\n",
    "# Your ParkingSystem object will be instantiated and called as such:\n",
    "# obj = ParkingSystem(big, medium, small)\n",
    "# param_1 = obj.addCar(carType)\n",
    "\n",
    "# got this problem correct, unsure how to instantiate this here. \n"
   ]
  },
  {
   "cell_type": "markdown",
   "id": "0d5b09e2",
   "metadata": {},
   "source": [
    "#### 771 - Jewels and Stones\n",
    "\n",
    "You're given strings jewels representing the types of stones that are jewels, and stones representing the stones you have. Each character in stones is a type of stone you have. You want to know how many of the stones you have are also jewels.\n",
    "\n",
    "Letters are case sensitive, so \"a\" is considered a different type of stone from \"A\"."
   ]
  },
  {
   "cell_type": "code",
   "execution_count": 1,
   "id": "fd638c5b",
   "metadata": {
    "ExecuteTime": {
     "end_time": "2021-07-15T22:33:33.798480Z",
     "start_time": "2021-07-15T22:33:33.782477Z"
    }
   },
   "outputs": [],
   "source": [
    "class Solution:\n",
    "    def numJewelsInStones(self, jewels: str, stones: str) -> int:\n",
    "        return sum(map(jewels.count, stones))"
   ]
  },
  {
   "cell_type": "markdown",
   "id": "57290adb",
   "metadata": {},
   "source": [
    "#### 1108 - Defanging an IP Address"
   ]
  },
  {
   "cell_type": "code",
   "execution_count": null,
   "id": "1428c107",
   "metadata": {},
   "outputs": [],
   "source": [
    "Given a valid (IPv4) IP address, return a defanged version of that IP address.\n",
    "\n",
    "A defanged IP address replaces every period \".\" with \"[.]\"."
   ]
  },
  {
   "cell_type": "code",
   "execution_count": 8,
   "id": "b0939f97",
   "metadata": {
    "ExecuteTime": {
     "end_time": "2021-07-22T14:04:26.485263Z",
     "start_time": "2021-07-22T14:04:26.472260Z"
    }
   },
   "outputs": [],
   "source": [
    "class Solution:\n",
    "    def defangIPaddr(self, address: str) -> str:\n",
    "        return address.replace('.', '[.]')"
   ]
  },
  {
   "cell_type": "code",
   "execution_count": 9,
   "id": "d05982e6",
   "metadata": {
    "ExecuteTime": {
     "end_time": "2021-07-22T14:04:26.757324Z",
     "start_time": "2021-07-22T14:04:26.753323Z"
    }
   },
   "outputs": [
    {
     "name": "stdout",
     "output_type": "stream",
     "text": [
      "1[.]1[.]1[.]1\n"
     ]
    }
   ],
   "source": [
    "solution = Solution() \n",
    "\n",
    "print(solution.defangIPaddr(\"1.1.1.1\"))"
   ]
  },
  {
   "cell_type": "code",
   "execution_count": null,
   "id": "f827d768",
   "metadata": {},
   "outputs": [],
   "source": []
  },
  {
   "cell_type": "markdown",
   "id": "bf2fed5d",
   "metadata": {},
   "source": [
    "### Jason\n",
    "\n",
    "#### 1528 - Shuffle String"
   ]
  },
  {
   "cell_type": "code",
   "execution_count": 6,
   "id": "21845a87",
   "metadata": {},
   "outputs": [],
   "source": [
    "s = \"codeleet\"\n",
    "indices = [4,5,6,7,0,2,1,3]\n",
    "# Expected: leetcode"
   ]
  },
  {
   "cell_type": "code",
   "execution_count": 4,
   "id": "965b24e4",
   "metadata": {},
   "outputs": [],
   "source": [
    "# Edge Cases \n",
    "s = \"aaiougrt\"\n",
    "indices = [4,0,2,6,7,3,1,5]\n",
    "# Expected: arigatou "
   ]
  },
  {
   "cell_type": "code",
   "execution_count": 7,
   "id": "177bc6fe",
   "metadata": {},
   "outputs": [
    {
     "name": "stdout",
     "output_type": "stream",
     "text": [
      "codeleet\n"
     ]
    }
   ],
   "source": [
    "# find the length of s \n",
    "N = len(s)\n",
    "\n",
    "# create a list with N number of empty strings \n",
    "a = [\"\"] * N\n",
    "\n",
    "# i = The count of the current iteration   x = The value of the item at the current iteration\n",
    "# using enumerate allows us to use the values as the index set (SUPER IMPORTANT)\n",
    "for i, x in enumerate(indices): \n",
    "    \n",
    "    # \"list a\" at index x will equal to s at index x \n",
    "    a[x] = s[x]\n",
    "    \n",
    "    # Join all items from \"list a\" into a string, using \"\" as a character separator. Note \"\" is NOT an empty space.\n",
    "print(\"\".join(a))"
   ]
  },
  {
   "cell_type": "code",
   "execution_count": 3,
   "id": "0d95920f",
   "metadata": {},
   "outputs": [
    {
     "name": "stdout",
     "output_type": "stream",
     "text": [
      "0 4\n",
      "1 5\n",
      "2 6\n",
      "3 7\n",
      "4 0\n",
      "5 2\n",
      "6 1\n",
      "7 3\n"
     ]
    }
   ],
   "source": [
    "# for illustrative purposes - we will set x as the indexing set, typically i would be \n",
    "for i, x in enumerate(indices):\n",
    "    print(i, x)"
   ]
  },
  {
   "cell_type": "markdown",
   "id": "b1ac1bd1",
   "metadata": {},
   "source": [
    "**1512 - Number of Good Pairs**"
   ]
  },
  {
   "cell_type": "code",
   "execution_count": 1,
   "id": "bda946e4",
   "metadata": {},
   "outputs": [],
   "source": [
    "nums = [1,2,3,1,1,3]\n",
    "# Expected Output: 4\n",
    "# Explanation: There are 4 good pairs (0,3), (0,4), (3,4), (2,5) 0-indexed"
   ]
  },
  {
   "cell_type": "code",
   "execution_count": null,
   "id": "55e176a6",
   "metadata": {},
   "outputs": [],
   "source": [
    "# edge cases\n",
    "\n",
    "nums = [1,1,1,1]\n",
    "# Expected Output: 6\n",
    "# Explanation: Each pair in the array are good."
   ]
  },
  {
   "cell_type": "code",
   "execution_count": null,
   "id": "7c8d352c",
   "metadata": {},
   "outputs": [],
   "source": [
    "nums = [1,2,3]\n",
    "# Expected Output: 0"
   ]
  },
  {
   "cell_type": "code",
   "execution_count": 2,
   "id": "8f8d194f",
   "metadata": {},
   "outputs": [
    {
     "name": "stdout",
     "output_type": "stream",
     "text": [
      "{1: 1, 2: 1, 3: 1}\n",
      "{1: 2, 2: 1, 3: 1}\n",
      "{1: 3, 2: 1, 3: 1}\n",
      "4\n"
     ]
    }
   ],
   "source": [
    "# initialize counter + empty dictionary \n",
    "counter = 0\n",
    "dic = {}\n",
    "\n",
    "# loop through each element in \"list nums\"\n",
    "for element in nums:\n",
    "    \n",
    "    # if element is a key in dictionary \n",
    "    if element in dic:\n",
    "        \n",
    "        # added print here for visual purposes \n",
    "        print(dic)\n",
    "        \n",
    "        # add the value of dic[element] to counter \n",
    "        counter += dic[element]\n",
    "        dic[element] += 1 \n",
    "    \n",
    "    # if the element is not a key in the dictionary \n",
    "    # create a key in the dictionary with a value of 1 \n",
    "    # we choose 1 because it represents the first time the unique element has been counted  \n",
    "    else:\n",
    "        dic[element] = 1\n",
    "\n",
    "print(counter)"
   ]
  },
  {
   "cell_type": "code",
   "execution_count": 3,
   "id": "5dd499f4",
   "metadata": {},
   "outputs": [
    {
     "name": "stdout",
     "output_type": "stream",
     "text": [
      "The original list: [1, 2, 3, 1, 1, 3]\n",
      "All possible pairs: [(1, 2), (1, 3), (1, 1), (1, 1), (1, 3), (2, 3), (2, 1), (2, 1), (2, 3), (3, 1), (3, 1), (3, 3), (1, 1), (1, 3), (1, 3)]\n"
     ]
    }
   ],
   "source": [
    "# Bonus - Finding all possible pairs + to visually verify edge cases \n",
    "\n",
    "# printing original list\n",
    "print(\"The original list: \" + str(nums))\n",
    "\n",
    "# All possible pairs in list\n",
    "# Using list comprehension + enumerate()\n",
    "\n",
    "# enumerate pythonically provides index + value respectively \n",
    "# list comprehension works as both for loops are equal in length\n",
    "# \n",
    "pairs = [(a, b) for idx, a in enumerate(nums) for b in nums[idx + 1:]]\n",
    "\n",
    "# printing result\n",
    "print('All possible pairs: ' + str(pairs))"
   ]
  },
  {
   "cell_type": "markdown",
   "id": "7c20531c",
   "metadata": {},
   "source": [
    "**1480 - Running Sum of 1d Array**"
   ]
  },
  {
   "cell_type": "code",
   "execution_count": 1,
   "id": "2a006ad5",
   "metadata": {},
   "outputs": [],
   "source": [
    "nums = [1,2,3,4]\n",
    "# Expected Output: [1,3,6,10]\n",
    "# Explanation: Running sum is obtained as follows: [1, 1+2, 1+2+3, 1+2+3+4]."
   ]
  },
  {
   "cell_type": "code",
   "execution_count": null,
   "id": "418aa6f4",
   "metadata": {},
   "outputs": [],
   "source": [
    "# Edge Cases\n",
    "nums = [1,1,1,1,1]\n",
    "# Expected Output: [1,2,3,4,5]\n",
    "# Explanation: Running sum is obtained as follows: [1, 1+1, 1+1+1, 1+1+1+1, 1+1+1+1+1]."
   ]
  },
  {
   "cell_type": "code",
   "execution_count": null,
   "id": "874127ba",
   "metadata": {},
   "outputs": [],
   "source": [
    "nums = [3,1,2,10,1]\n",
    "# Expected Output: [3,4,6,16,17]"
   ]
  },
  {
   "cell_type": "code",
   "execution_count": 2,
   "id": "88864450",
   "metadata": {},
   "outputs": [
    {
     "name": "stdout",
     "output_type": "stream",
     "text": [
      "[1, 3, 6, 10]\n"
     ]
    }
   ],
   "source": [
    "# first we need to find the positions we need to loop through\n",
    "\n",
    "# start from 1 till len(nums)     len(nums) = 4   -> 0, 1, 2, 3     therefore range(1,len(nums)) = 1, 2, 3\n",
    "for i in range(1, len(nums)):\n",
    "    \n",
    "    # running sum starting from position 1      +=  -> adds nums[i-1] to current position\n",
    "    # list updates each iteration \n",
    "    nums[i] += nums[i - 1]\n",
    "    \n",
    "print(nums)"
   ]
  },
  {
   "cell_type": "markdown",
   "id": "0e12e3c6",
   "metadata": {},
   "source": [
    "**1431 - Kids With the Greatest Number of Candies**"
   ]
  },
  {
   "cell_type": "code",
   "execution_count": 1,
   "id": "83ad9fa0",
   "metadata": {},
   "outputs": [],
   "source": [
    "candies = [2,3,5,1,3]\n",
    "extraCandies = 3\n",
    "# Expected Output: [true,true,true,false,true] \n",
    "# Explanation: If you give all extraCandies to:\n",
    "# - Kid 1, they will have 2 + 3 = 5 candies, which is the greatest among the kids.\n",
    "# - Kid 2, they will have 3 + 3 = 6 candies, which is the greatest among the kids.\n",
    "# - Kid 3, they will have 5 + 3 = 8 candies, which is the greatest among the kids.\n",
    "# - Kid 4, they will have 1 + 3 = 4 candies, which is not the greatest among the kids.\n",
    "# - Kid 5, they will have 3 + 3 = 6 candies, which is the greatest among the kids."
   ]
  },
  {
   "cell_type": "code",
   "execution_count": null,
   "id": "afbbf1c5",
   "metadata": {},
   "outputs": [],
   "source": [
    "# Edge Cases\n",
    "candies = [4,2,1,1,2]\n",
    "extraCandies = 1\n",
    "# Expected Output: [true,false,false,false,false] \n",
    "# Explanation: There is only 1 extra candy.\n",
    "# Kid 1 will always have the greatest number of candies, even if a different kid is given the extra candy."
   ]
  },
  {
   "cell_type": "code",
   "execution_count": null,
   "id": "fe407cb2",
   "metadata": {},
   "outputs": [],
   "source": [
    "candies = [12,1,12]\n",
    "extraCandies = 10\n",
    "# Expected Output: [true,false,true]"
   ]
  },
  {
   "cell_type": "code",
   "execution_count": 2,
   "id": "277b6ef8",
   "metadata": {},
   "outputs": [
    {
     "name": "stdout",
     "output_type": "stream",
     "text": [
      "[True, True, True, False, True]\n"
     ]
    }
   ],
   "source": [
    "# find max value from candies \n",
    "# Check if candies[i] + extraCandies = new greatest value\n",
    "# If yes return True, If no return False\n",
    "# Repeat for all\n",
    "\n",
    "# creating output list\n",
    "output = []\n",
    "\n",
    "# finding the highest value in candies list  \n",
    "most_candies = max(candies)\n",
    "\n",
    "# loop through the candies list\n",
    "for i in range(len(candies)):\n",
    "    \n",
    "    # new candy amount - We could have reduced this line to the if statement line\n",
    "    new_candy_amount = candies[i] + extraCandies\n",
    "    \n",
    "    # if new amount is greater than equal to most_candies \n",
    "    if new_candy_amount >= most_candies:\n",
    "        output.append(True)\n",
    "    else:\n",
    "        output.append(False)\n",
    "print(output)"
   ]
  },
  {
   "cell_type": "code",
   "execution_count": null,
   "id": "7f3c7acb",
   "metadata": {},
   "outputs": [],
   "source": [
    "# Bonus - 1 liner I found in the solutions \n",
    "\n",
    "# list comprehension \n",
    "return[candy+extraCandies >= maxCandies for candy in candies]"
   ]
  },
  {
   "cell_type": "markdown",
   "id": "22747290",
   "metadata": {},
   "source": [
    "---"
   ]
  },
  {
   "cell_type": "markdown",
   "id": "0335b75b",
   "metadata": {},
   "source": [
    "**1342 - Number of Steps to Reduce a Number to Zero**"
   ]
  },
  {
   "cell_type": "code",
   "execution_count": 2,
   "id": "d50e34dd",
   "metadata": {},
   "outputs": [],
   "source": [
    "num = 14\n",
    "# Expected Output: 6\n",
    "# Explanation: \n",
    "# Step 1) 14 is even; divide by 2 and obtain 7. \n",
    "# Step 2) 7 is odd; subtract 1 and obtain 6.\n",
    "# Step 3) 6 is even; divide by 2 and obtain 3. \n",
    "# Step 4) 3 is odd; subtract 1 and obtain 2. \n",
    "# Step 5) 2 is even; divide by 2 and obtain 1. \n",
    "# Step 6) 1 is odd; subtract 1 and obtain 0."
   ]
  },
  {
   "cell_type": "code",
   "execution_count": null,
   "id": "02ae6cc0",
   "metadata": {},
   "outputs": [],
   "source": [
    "# Edge Cases\n",
    "num = 8\n",
    "# Expected Output: 4\n",
    "# Explanation: \n",
    "# Step 1) 8 is even; divide by 2 and obtain 4. \n",
    "# Step 2) 4 is even; divide by 2 and obtain 2. \n",
    "# Step 3) 2 is even; divide by 2 and obtain 1. \n",
    "# Step 4) 1 is odd; subtract 1 and obtain 0."
   ]
  },
  {
   "cell_type": "code",
   "execution_count": null,
   "id": "4908a6f2",
   "metadata": {},
   "outputs": [],
   "source": [
    "num = 123\n",
    "# Expected Output: 12"
   ]
  },
  {
   "cell_type": "code",
   "execution_count": 3,
   "id": "676b94e9",
   "metadata": {},
   "outputs": [
    {
     "name": "stdout",
     "output_type": "stream",
     "text": [
      "6\n"
     ]
    }
   ],
   "source": [
    "# Using while loop so I can print counter when num is less than or equal to 0. \n",
    "# Note we use num > 0 NOT num >= 0 because >= will keep printing 0 ie counter goes infinity \n",
    "# 0 is a even number and 0/2 = 0 \n",
    "\n",
    "# make counter \n",
    "counter = 0 \n",
    "\n",
    "# while num is greater than 0 keep looping \n",
    "while num > 0:\n",
    "\n",
    "    # if num is a even number\n",
    "    if num % 2 == 0:\n",
    "        num = num / 2 \n",
    "        counter += 1 \n",
    "        \n",
    "    # else num is a odd number than subtract one \n",
    "    else:\n",
    "        num = num - 1 \n",
    "        counter += 1\n",
    "\n",
    "print(counter)"
   ]
  },
  {
   "cell_type": "markdown",
   "id": "1d45beb2",
   "metadata": {},
   "source": [
    "---"
   ]
  },
  {
   "cell_type": "markdown",
   "id": "7631328a",
   "metadata": {},
   "source": [
    "**1389 - Create Target Array in the Given Order**"
   ]
  },
  {
   "cell_type": "code",
   "execution_count": 4,
   "id": "8b236ad4",
   "metadata": {},
   "outputs": [],
   "source": [
    "nums = [0,1,2,3,4]\n",
    "index = [0,1,2,2,1]\n",
    "# Expected Output: [0,4,1,3,2]\n",
    "# Explanation:\n",
    "# nums       index     target\n",
    "# 0            0        [0]\n",
    "# 1            1        [0,1]\n",
    "# 2            2        [0,1,2]\n",
    "# 3            2        [0,1,3,2]\n",
    "# 4            1        [0,4,1,3,2]"
   ]
  },
  {
   "cell_type": "code",
   "execution_count": null,
   "id": "db465b9e",
   "metadata": {},
   "outputs": [],
   "source": [
    "#Edge Cases\n",
    "nums = [1,2,3,4,0]\n",
    "index = [0,1,2,3,0]\n",
    "# Expected Output: [0,1,2,3,4]\n",
    "# Explanation:\n",
    "# nums       index     target\n",
    "# 1            0        [1]\n",
    "# 2            1        [1,2]\n",
    "# 3            2        [1,2,3]\n",
    "# 4            3        [1,2,3,4]\n",
    "# 0            0        [0,1,2,3,4]"
   ]
  },
  {
   "cell_type": "code",
   "execution_count": null,
   "id": "da30091f",
   "metadata": {},
   "outputs": [],
   "source": [
    "nums = [1] \n",
    "index = [0]\n",
    "# Expected Output: [1]"
   ]
  },
  {
   "cell_type": "code",
   "execution_count": 5,
   "id": "0bd90f89",
   "metadata": {},
   "outputs": [
    {
     "name": "stdout",
     "output_type": "stream",
     "text": [
      "[0, 4, 1, 3, 2]\n"
     ]
    }
   ],
   "source": [
    "# We need to insert num at index i - USING INSERT\n",
    "\n",
    "target = []\n",
    "\n",
    "for i in range(len(index)):\n",
    "    target.insert(index[i], nums[i])\n",
    "    \n",
    "print(target)"
   ]
  },
  {
   "cell_type": "code",
   "execution_count": 6,
   "id": "385cd6c8",
   "metadata": {},
   "outputs": [
    {
     "name": "stdout",
     "output_type": "stream",
     "text": [
      "[0, 4, 1, 3, 2]\n"
     ]
    }
   ],
   "source": [
    "# WITHOUT INSERT - found this in solutions - I don't really understand this - feel free to comment on it \n",
    "\n",
    "target = []\n",
    "for i in range(len(index)):\n",
    "    \n",
    "    target = target[:index[i]] + [nums[i]] + target[index[i]:]\n",
    "\n",
    "print(target)"
   ]
  },
  {
   "cell_type": "markdown",
   "id": "061454e1",
   "metadata": {},
   "source": [
    "---"
   ]
  },
  {
   "cell_type": "markdown",
   "id": "f05b2e08",
   "metadata": {},
   "source": [
    "**1913 - Maximum Product Difference Between Two Pairs**"
   ]
  },
  {
   "cell_type": "code",
   "execution_count": 7,
   "id": "13d03242",
   "metadata": {},
   "outputs": [],
   "source": [
    "nums = [5,6,2,7,4]\n",
    "# Expected Output: 34\n",
    "# Explanation: We can choose indices 1 and 3 for the first pair (6, 7) and indices 2 and 4 for the second pair (2, 4).\n",
    "# The product difference is (6 * 7) -| (2 * 4) = 34."
   ]
  },
  {
   "cell_type": "code",
   "execution_count": null,
   "id": "1f604f18",
   "metadata": {},
   "outputs": [],
   "source": [
    "# Edge Case\n",
    "nums = [4,2,5,9,7,4,8]\n",
    "# Expected Output: 64\n",
    "# Explanation: We can choose indices 3 and 6 for the first pair (9, 8) and indices 1 and 5 for the second pair (2, 4).\n",
    "# The product difference is (9 * 8) - (2 * 4) = 64."
   ]
  },
  {
   "cell_type": "code",
   "execution_count": 8,
   "id": "6c88d7e0",
   "metadata": {},
   "outputs": [
    {
     "name": "stdout",
     "output_type": "stream",
     "text": [
      "34\n"
     ]
    }
   ],
   "source": [
    "# To get the maximum produce difference, we need to have the first pair to be the largest pairs and\n",
    "# the second pairs to be the smallest pairs \n",
    "\n",
    "# My approach will be first sort the array and then take the last two index as the first pair \n",
    "# and the first two indexes as the second pair\n",
    "\n",
    "import numpy as np\n",
    "nums = np.sort(nums)\n",
    "output = np.prod(nums[-2:]) - np.prod(nums[:2])\n",
    "print(output)"
   ]
  },
  {
   "cell_type": "code",
   "execution_count": 9,
   "id": "5dc19582",
   "metadata": {},
   "outputs": [
    {
     "name": "stdout",
     "output_type": "stream",
     "text": [
      "34\n"
     ]
    }
   ],
   "source": [
    "# Bonus - Solution I found - O(nlogn) time O(1) space\n",
    "nums.sort()\n",
    "print(nums[-1]*nums[-2]-nums[0]*nums[1])"
   ]
  },
  {
   "cell_type": "code",
   "execution_count": null,
   "id": "37c97fbe",
   "metadata": {},
   "outputs": [],
   "source": []
  },
  {
   "cell_type": "code",
   "execution_count": null,
   "id": "06b3d3c2",
   "metadata": {},
   "outputs": [],
   "source": []
  },
  {
   "cell_type": "code",
   "execution_count": null,
   "id": "9c696ff9",
   "metadata": {},
   "outputs": [],
   "source": []
  },
  {
   "cell_type": "code",
   "execution_count": null,
   "id": "e8fe5f3b",
   "metadata": {},
   "outputs": [],
   "source": []
  },
  {
   "cell_type": "code",
   "execution_count": null,
   "id": "242d963b",
   "metadata": {},
   "outputs": [],
   "source": []
  },
  {
   "cell_type": "code",
   "execution_count": null,
   "id": "6a1270eb",
   "metadata": {},
   "outputs": [],
   "source": []
  }
 ],
 "metadata": {
  "hide_input": false,
  "kernelspec": {
   "display_name": "Python 3",
   "language": "python",
   "name": "python3"
  },
  "language_info": {
   "codemirror_mode": {
    "name": "ipython",
    "version": 3
   },
   "file_extension": ".py",
   "mimetype": "text/x-python",
   "name": "python",
   "nbconvert_exporter": "python",
   "pygments_lexer": "ipython3",
   "version": "3.8.8"
  },
  "toc": {
   "base_numbering": 1,
   "nav_menu": {},
   "number_sections": true,
   "sideBar": true,
   "skip_h1_title": false,
   "title_cell": "Table of Contents",
   "title_sidebar": "Contents",
   "toc_cell": false,
   "toc_position": {},
   "toc_section_display": true,
   "toc_window_display": false
  },
  "varInspector": {
   "cols": {
    "lenName": 16,
    "lenType": 16,
    "lenVar": 40
   },
   "kernels_config": {
    "python": {
     "delete_cmd_postfix": "",
     "delete_cmd_prefix": "del ",
     "library": "var_list.py",
     "varRefreshCmd": "print(var_dic_list())"
    },
    "r": {
     "delete_cmd_postfix": ") ",
     "delete_cmd_prefix": "rm(",
     "library": "var_list.r",
     "varRefreshCmd": "cat(var_dic_list()) "
    }
   },
   "types_to_exclude": [
    "module",
    "function",
    "builtin_function_or_method",
    "instance",
    "_Feature"
   ],
   "window_display": false
  }
 },
 "nbformat": 4,
 "nbformat_minor": 5
}
