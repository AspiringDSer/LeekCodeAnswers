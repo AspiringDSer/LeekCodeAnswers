{
 "cells": [
  {
   "cell_type": "markdown",
   "metadata": {},
   "source": [
    "# LeetCode Solutions Notebook"
   ]
  },
  {
   "cell_type": "markdown",
   "metadata": {},
   "source": [
    "**Data Scientist Coding Interviews**\n",
    "* Easy to medium level of LeetCode Questions\n",
    "\n",
    "**Data Structures** \n",
    "* Arrays\n",
    "* Hash maps/Dictionary\n",
    "* Heaps\n",
    "* Sets\n",
    "* Stack/Queues \n",
    "* Strings\n",
    "* Tree\n",
    "\n",
    "**Algorithms**\n",
    "* Binary Search\n",
    "* Recursion\n",
    "* Sorting\n",
    "* Dynamic Programming \n",
    "\n",
    "Note: Good [video](https://www.youtube.com/watch?v=hAqg2dlNeUc&t=594s&ab_channel=DataInterviewPro) on DS Coding Interviews. Video explains other aspects of the Interview too"
   ]
  },
  {
   "cell_type": "markdown",
   "metadata": {},
   "source": [
    "### Sample Schedule\n",
    "\n",
    "Week 1: Pick 2 from your list \n",
    "\n",
    "Week 2: Pick 1 from your list + 1 from each non-your-list ^_^ \n",
    "\n",
    "Week 3: Repeat week 2"
   ]
  },
  {
   "cell_type": "markdown",
   "metadata": {},
   "source": [
    "NOTE: I'll update the list when needed. Please **BOLD** your question when you have completed and submitted with the answers below. "
   ]
  },
  {
   "cell_type": "markdown",
   "metadata": {},
   "source": [
    "**Jason**\n",
    "\n",
    "**1528 - Shuffle String**\n",
    "\n",
    "**1512 - Number of Good Pairs** \n",
    "\n",
    "**1480 - Running Sum of 1d Array**\n",
    "\n",
    "**1431 - Kids With the Greatest Number of Candies**\n",
    "\n",
    "**1342 - Number of Steps to Reduce a Number to Zero**\n",
    "\n",
    "**1389 - Create Target Array in the Given Order**\n",
    "\n",
    "**1913 - Maximum Product Difference Between Two Pairs (array)**\n",
    "\n",
    "<del>1656 - Design an Ordered Stream (array)</del> (Question is not well structured)\n",
    "\n",
    "1588 - Sum of All Odd Length Subarrays (array) \n",
    "\n",
    "**1832 - Check if the Sentence Is Pangram (hash table)** (Week of Aug 2nd)\n",
    "\n",
    "**1684 - Count the Number of Consistent Strings (hash table)**\n",
    "\n",
    "<del> 804\t- Unique Morse Code Words (hash table) (Horrible Question) </del> (Week of Aug 9th + Repeat Week)\n",
    "\n",
    "1337 - The K Weakest Rows in a Matrix (Heap) \n",
    "\n",
    "1614 - Maximum Nesting Depth of the Parentheses (Stack)"
   ]
  },
  {
   "cell_type": "markdown",
   "metadata": {},
   "source": [
    "**Katya** \n",
    "\n",
    "~1603 - Design Parking System~\n",
    "\n",
    "~771 - Jewels and Stones~\n",
    "\n",
    "~1108 - Defanging an IP Address~\n",
    "\n",
    "~1672 - Richest Customer Wealth~\n",
    "\n",
    "1720 - Decode XORed Array\n",
    "\n",
    "1678 - Goal Parser Interpretation\n",
    "\n",
    "1929 - Concatenation of Array\n",
    "\n",
    "1920 - Build Array from Permutation"
   ]
  },
  {
   "cell_type": "markdown",
   "metadata": {},
   "source": [
    "**Yash** \n",
    "\n",
    "1470 - Shuffle the Array\n",
    "\n",
    "1365 - How Many Numbers Are Smaller Than the Current Number"
   ]
  },
  {
   "cell_type": "markdown",
   "metadata": {},
   "source": [
    "**Sam**\n",
    "\n",
    "~1773 - Count Items Matching a Rule~\n",
    "\n",
    "~1221 - Split a String in Balanced Strings~\n",
    "\n",
    "~1791 - Find Center of Star Graph~\n",
    "\n",
    "~1486 - XOR Operation in an Array~\n",
    "\n",
    "938 - Range Sum of BST\n",
    "\n",
    "1859 - Sorting the Sentence\n",
    "\n",
    "1281 - Subtract the Product and Sum of Digits of an Integer\n",
    "\n",
    "1313 - Decompress Run-Length Encoded List"
   ]
  },
  {
   "cell_type": "markdown",
   "metadata": {},
   "source": [
    "### Example\n",
    "LeekCode Number: 1929 - Concatenation of Array"
   ]
  },
  {
   "cell_type": "code",
   "execution_count": null,
   "metadata": {},
   "outputs": [],
   "source": [
    "# Code + Comments here"
   ]
  },
  {
   "cell_type": "code",
   "execution_count": null,
   "metadata": {},
   "outputs": [],
   "source": []
  },
  {
   "cell_type": "markdown",
   "metadata": {},
   "source": [
    "### Katya \n",
    "\n",
    "#### 1603 - Design Parking System \n",
    "\n",
    "Design a parking system for a parking lot. The parking lot has three kinds of parking spaces: big, medium, and small, with a fixed number of slots for each size.\n",
    "\n",
    "Implement the ParkingSystem class:\n",
    "\n",
    "- `ParkingSystem(int big, int medium, int small)` Initializes object of the `ParkingSystem` class. The number of slots for each parking space are given as part of the constructor.\n",
    "- `bool` `addCar`(int `carType`) Checks whether there is a parking space of `carType` for the car that wants to get into the parking lot. `carType` can be of three kinds: big, medium, or small, which are represented by 1, 2, and 3 respectively. A car can only park in a parking space of its `carType`. If there is no space available, return false, else park the car in that size space and return true.\n",
    "\n",
    "\n",
    "Input: \n",
    "`[\"ParkingSystem\",\"addCar\",\"addCar\",\"addCar\",\"addCar\"] [[1,1,0],[1],[2],[3],[1]]`"
   ]
  },
  {
   "cell_type": "code",
   "execution_count": 3,
   "metadata": {
    "ExecuteTime": {
     "end_time": "2021-07-13T16:48:44.739323Z",
     "start_time": "2021-07-13T16:48:44.731321Z"
    }
   },
   "outputs": [],
   "source": [
    "class ParkingSystem:\n",
    "\n",
    "    def __init__(self, big: int, medium: int, small: int):\n",
    "        # make a list of all car sizes\n",
    "        self.cars = [big, medium, small]\n",
    "\n",
    "    def addCar(self, carType: int) -> bool:\n",
    "        # if the cartype is greater than 0, take a space in the parking lot\n",
    "        if self.cars[carType-1] > 0: \n",
    "            self.cars[carType-1]-=1\n",
    "            return True\n",
    "        else:\n",
    "            return False\n",
    "            \n",
    "\n",
    "\n",
    "# Your ParkingSystem object will be instantiated and called as such:\n",
    "# obj = ParkingSystem(big, medium, small)\n",
    "# param_1 = obj.addCar(carType)\n"
   ]
  },
  {
   "cell_type": "markdown",
   "metadata": {},
   "source": [
    "#### 771 - Jewels and Stones\n",
    "\n",
    "You're given strings jewels representing the types of stones that are jewels, and stones representing the stones you have. Each character in stones is a type of stone you have. You want to know how many of the stones you have are also jewels.\n",
    "\n",
    "Letters are case sensitive, so \"a\" is considered a different type of stone from \"A\"."
   ]
  },
  {
   "cell_type": "code",
   "execution_count": 8,
   "metadata": {
    "ExecuteTime": {
     "end_time": "2021-07-28T13:14:01.038330Z",
     "start_time": "2021-07-28T13:14:01.025327Z"
    }
   },
   "outputs": [],
   "source": [
    "class JewelSolution:\n",
    "    def numJewelsInStones(self, jewels: str, stones: str) -> int:\n",
    "        # takes the sum of the count of jewels and the number of jewels within the stones\n",
    "        return sum(map(jewels.count, stones))"
   ]
  },
  {
   "cell_type": "code",
   "execution_count": 11,
   "metadata": {
    "ExecuteTime": {
     "end_time": "2021-07-28T13:16:24.820994Z",
     "start_time": "2021-07-28T13:16:24.814992Z"
    }
   },
   "outputs": [
    {
     "name": "stdout",
     "output_type": "stream",
     "text": [
      "7\n"
     ]
    }
   ],
   "source": [
    "Jewel = JewelSolution() \n",
    "\n",
    "print(Jewel.numJewelsInStones('AaBb', 'AaaAABbc'))"
   ]
  },
  {
   "cell_type": "markdown",
   "metadata": {},
   "source": [
    "#### 1108 - Defanging an IP Address"
   ]
  },
  {
   "cell_type": "code",
   "execution_count": null,
   "metadata": {},
   "outputs": [],
   "source": [
    "Given a valid (IPv4) IP address, return a defanged version of that IP address.\n",
    "\n",
    "A defanged IP address replaces every period \".\" with \"[.]\"."
   ]
  },
  {
   "cell_type": "code",
   "execution_count": 5,
   "metadata": {
    "ExecuteTime": {
     "end_time": "2021-07-28T13:13:16.135652Z",
     "start_time": "2021-07-28T13:13:16.121650Z"
    }
   },
   "outputs": [],
   "source": [
    "class Solution:\n",
    "    def defangIPaddr(self, address: str) -> str:\n",
    "        # replaces . with [.]\n",
    "        return address.replace('.', '[.]')"
   ]
  },
  {
   "cell_type": "code",
   "execution_count": 6,
   "metadata": {
    "ExecuteTime": {
     "end_time": "2021-07-28T13:13:16.815804Z",
     "start_time": "2021-07-28T13:13:16.811805Z"
    }
   },
   "outputs": [
    {
     "name": "stdout",
     "output_type": "stream",
     "text": [
      "1[.]1[.]1[.]1\n"
     ]
    }
   ],
   "source": [
    "solution = Solution() \n",
    "\n",
    "print(solution.defangIPaddr(\"1.1.1.1\"))"
   ]
  },
  {
   "cell_type": "markdown",
   "metadata": {},
   "source": [
    "#### 1672. Richest Customer Wealth\n",
    "You are given an m x n integer grid accounts where accounts *i* and *j* is the amount of money the ith customer has in the Jth bank. Return the wealth that the richest customer has.\n",
    "\n",
    "A customer's wealth is the amount of money they have in all their bank accounts. The richest customer is the customer that has the maximum wealth.\n",
    "\n",
    "Input: accounts = [[2,8,7],[7,1,3],[1,9,5]]\n",
    "Output: 17"
   ]
  },
  {
   "cell_type": "code",
   "execution_count": 21,
   "metadata": {
    "ExecuteTime": {
     "end_time": "2021-07-28T13:47:04.969934Z",
     "start_time": "2021-07-28T13:47:04.961935Z"
    }
   },
   "outputs": [
    {
     "ename": "TypeError",
     "evalue": "'type' object is not subscriptable",
     "output_type": "error",
     "traceback": [
      "\u001b[1;31m---------------------------------------------------------------------------\u001b[0m",
      "\u001b[1;31mTypeError\u001b[0m                                 Traceback (most recent call last)",
      "\u001b[1;32m<ipython-input-21-da3bf7a68c7b>\u001b[0m in \u001b[0;36m<module>\u001b[1;34m\u001b[0m\n\u001b[1;32m----> 1\u001b[1;33m \u001b[1;32mclass\u001b[0m \u001b[0mSolution\u001b[0m\u001b[1;33m:\u001b[0m\u001b[1;33m\u001b[0m\u001b[1;33m\u001b[0m\u001b[0m\n\u001b[0m\u001b[0;32m      2\u001b[0m     \u001b[1;31m# take in a list of lists\u001b[0m\u001b[1;33m\u001b[0m\u001b[1;33m\u001b[0m\u001b[1;33m\u001b[0m\u001b[0m\n\u001b[0;32m      3\u001b[0m     \u001b[1;32mdef\u001b[0m \u001b[0mmaximumWealth\u001b[0m\u001b[1;33m(\u001b[0m\u001b[0mself\u001b[0m\u001b[1;33m,\u001b[0m \u001b[0maccounts\u001b[0m\u001b[1;33m:\u001b[0m \u001b[0mlist\u001b[0m\u001b[1;33m[\u001b[0m\u001b[0mlist\u001b[0m\u001b[1;33m[\u001b[0m\u001b[0mint\u001b[0m\u001b[1;33m]\u001b[0m\u001b[1;33m]\u001b[0m\u001b[1;33m)\u001b[0m \u001b[1;33m->\u001b[0m \u001b[0mint\u001b[0m\u001b[1;33m:\u001b[0m\u001b[1;33m\u001b[0m\u001b[1;33m\u001b[0m\u001b[0m\n\u001b[0;32m      4\u001b[0m         \u001b[1;31m# take the sum of each list of lists\u001b[0m\u001b[1;33m\u001b[0m\u001b[1;33m\u001b[0m\u001b[1;33m\u001b[0m\u001b[0m\n\u001b[0;32m      5\u001b[0m         \u001b[0mmylist\u001b[0m \u001b[1;33m=\u001b[0m \u001b[0mlist\u001b[0m\u001b[1;33m(\u001b[0m\u001b[0mmap\u001b[0m\u001b[1;33m(\u001b[0m\u001b[0msum\u001b[0m\u001b[1;33m,\u001b[0m \u001b[0maccounts\u001b[0m\u001b[1;33m)\u001b[0m\u001b[1;33m)\u001b[0m\u001b[1;33m\u001b[0m\u001b[1;33m\u001b[0m\u001b[0m\n",
      "\u001b[1;32m<ipython-input-21-da3bf7a68c7b>\u001b[0m in \u001b[0;36mSolution\u001b[1;34m()\u001b[0m\n\u001b[0;32m      1\u001b[0m \u001b[1;32mclass\u001b[0m \u001b[0mSolution\u001b[0m\u001b[1;33m:\u001b[0m\u001b[1;33m\u001b[0m\u001b[1;33m\u001b[0m\u001b[0m\n\u001b[0;32m      2\u001b[0m     \u001b[1;31m# take in a list of lists\u001b[0m\u001b[1;33m\u001b[0m\u001b[1;33m\u001b[0m\u001b[1;33m\u001b[0m\u001b[0m\n\u001b[1;32m----> 3\u001b[1;33m     \u001b[1;32mdef\u001b[0m \u001b[0mmaximumWealth\u001b[0m\u001b[1;33m(\u001b[0m\u001b[0mself\u001b[0m\u001b[1;33m,\u001b[0m \u001b[0maccounts\u001b[0m\u001b[1;33m:\u001b[0m \u001b[0mlist\u001b[0m\u001b[1;33m[\u001b[0m\u001b[0mlist\u001b[0m\u001b[1;33m[\u001b[0m\u001b[0mint\u001b[0m\u001b[1;33m]\u001b[0m\u001b[1;33m]\u001b[0m\u001b[1;33m)\u001b[0m \u001b[1;33m->\u001b[0m \u001b[0mint\u001b[0m\u001b[1;33m:\u001b[0m\u001b[1;33m\u001b[0m\u001b[1;33m\u001b[0m\u001b[0m\n\u001b[0m\u001b[0;32m      4\u001b[0m         \u001b[1;31m# take the sum of each list of lists\u001b[0m\u001b[1;33m\u001b[0m\u001b[1;33m\u001b[0m\u001b[1;33m\u001b[0m\u001b[0m\n\u001b[0;32m      5\u001b[0m         \u001b[0mmylist\u001b[0m \u001b[1;33m=\u001b[0m \u001b[0mlist\u001b[0m\u001b[1;33m(\u001b[0m\u001b[0mmap\u001b[0m\u001b[1;33m(\u001b[0m\u001b[0msum\u001b[0m\u001b[1;33m,\u001b[0m \u001b[0maccounts\u001b[0m\u001b[1;33m)\u001b[0m\u001b[1;33m)\u001b[0m\u001b[1;33m\u001b[0m\u001b[1;33m\u001b[0m\u001b[0m\n",
      "\u001b[1;31mTypeError\u001b[0m: 'type' object is not subscriptable"
     ]
    }
   ],
   "source": [
    "#this works fine in leetcode, unsure why it doesn't work here\n",
    "\n",
    "class Solution:\n",
    "    # take in a list of lists\n",
    "    def maximumWealth(self, accounts: list[list[int]]) -> int:\n",
    "        # take the sum of each list of lists\n",
    "        mylist = list(map(sum, accounts))\n",
    "        # take the max value from the lists\n",
    "        maxvalue = max(mylist)\n",
    "        return maxvalue"
   ]
  },
  {
   "cell_type": "markdown",
   "metadata": {},
   "source": [
    "#### 1720. Decode XORed Array\n",
    "There is a hidden integer array arr that consists of n non-negative integers.\n",
    "\n",
    "It was encoded into another integer array encoded of length n - 1, such that encoded[i] = arr[i] XOR arr[i + 1]. For example, if arr = [1,0,2,1], then encoded = [1,2,3].\n",
    "\n",
    "You are given the encoded array. You are also given an integer first, that is the first element of arr, i.e. arr[0].\n",
    "\n",
    "Return the original array arr. It can be proved that the answer exists and is unique."
   ]
  },
  {
   "cell_type": "code",
   "execution_count": 25,
   "metadata": {
    "ExecuteTime": {
     "end_time": "2021-07-28T14:03:34.250736Z",
     "start_time": "2021-07-28T14:03:34.234732Z"
    }
   },
   "outputs": [
    {
     "ename": "TypeError",
     "evalue": "'type' object is not subscriptable",
     "output_type": "error",
     "traceback": [
      "\u001b[1;31m---------------------------------------------------------------------------\u001b[0m",
      "\u001b[1;31mTypeError\u001b[0m                                 Traceback (most recent call last)",
      "\u001b[1;32m<ipython-input-25-b503ef9c7048>\u001b[0m in \u001b[0;36m<module>\u001b[1;34m\u001b[0m\n\u001b[0;32m      1\u001b[0m \u001b[1;31m# works fine in leetcode too..\u001b[0m\u001b[1;33m\u001b[0m\u001b[1;33m\u001b[0m\u001b[1;33m\u001b[0m\u001b[0m\n\u001b[1;32m----> 2\u001b[1;33m \u001b[1;32mclass\u001b[0m \u001b[0mSolution\u001b[0m\u001b[1;33m:\u001b[0m\u001b[1;33m\u001b[0m\u001b[1;33m\u001b[0m\u001b[0m\n\u001b[0m\u001b[0;32m      3\u001b[0m     \u001b[1;32mdef\u001b[0m \u001b[0mdecode\u001b[0m\u001b[1;33m(\u001b[0m\u001b[0mself\u001b[0m\u001b[1;33m,\u001b[0m \u001b[0mencoded\u001b[0m\u001b[1;33m:\u001b[0m \u001b[0mlist\u001b[0m\u001b[1;33m[\u001b[0m\u001b[0mint\u001b[0m\u001b[1;33m]\u001b[0m\u001b[1;33m,\u001b[0m \u001b[0mfirst\u001b[0m\u001b[1;33m:\u001b[0m \u001b[0mint\u001b[0m\u001b[1;33m)\u001b[0m \u001b[1;33m->\u001b[0m \u001b[0mList\u001b[0m\u001b[1;33m[\u001b[0m\u001b[0mint\u001b[0m\u001b[1;33m]\u001b[0m\u001b[1;33m:\u001b[0m\u001b[1;33m\u001b[0m\u001b[1;33m\u001b[0m\u001b[0m\n\u001b[0;32m      4\u001b[0m         \u001b[1;32mreturn\u001b[0m \u001b[0mlist\u001b[0m\u001b[1;33m(\u001b[0m\u001b[0maccumulate\u001b[0m\u001b[1;33m(\u001b[0m\u001b[1;33m[\u001b[0m\u001b[0mfirst\u001b[0m\u001b[1;33m]\u001b[0m \u001b[1;33m+\u001b[0m \u001b[0mencoded\u001b[0m\u001b[1;33m,\u001b[0m \u001b[1;32mlambda\u001b[0m \u001b[0mx\u001b[0m\u001b[1;33m,\u001b[0m \u001b[0my\u001b[0m\u001b[1;33m:\u001b[0m \u001b[0mx\u001b[0m \u001b[1;33m^\u001b[0m \u001b[0my\u001b[0m\u001b[1;33m)\u001b[0m\u001b[1;33m)\u001b[0m\u001b[1;33m\u001b[0m\u001b[1;33m\u001b[0m\u001b[0m\n",
      "\u001b[1;32m<ipython-input-25-b503ef9c7048>\u001b[0m in \u001b[0;36mSolution\u001b[1;34m()\u001b[0m\n\u001b[0;32m      1\u001b[0m \u001b[1;31m# works fine in leetcode too..\u001b[0m\u001b[1;33m\u001b[0m\u001b[1;33m\u001b[0m\u001b[1;33m\u001b[0m\u001b[0m\n\u001b[0;32m      2\u001b[0m \u001b[1;32mclass\u001b[0m \u001b[0mSolution\u001b[0m\u001b[1;33m:\u001b[0m\u001b[1;33m\u001b[0m\u001b[1;33m\u001b[0m\u001b[0m\n\u001b[1;32m----> 3\u001b[1;33m     \u001b[1;32mdef\u001b[0m \u001b[0mdecode\u001b[0m\u001b[1;33m(\u001b[0m\u001b[0mself\u001b[0m\u001b[1;33m,\u001b[0m \u001b[0mencoded\u001b[0m\u001b[1;33m:\u001b[0m \u001b[0mlist\u001b[0m\u001b[1;33m[\u001b[0m\u001b[0mint\u001b[0m\u001b[1;33m]\u001b[0m\u001b[1;33m,\u001b[0m \u001b[0mfirst\u001b[0m\u001b[1;33m:\u001b[0m \u001b[0mint\u001b[0m\u001b[1;33m)\u001b[0m \u001b[1;33m->\u001b[0m \u001b[0mList\u001b[0m\u001b[1;33m[\u001b[0m\u001b[0mint\u001b[0m\u001b[1;33m]\u001b[0m\u001b[1;33m:\u001b[0m\u001b[1;33m\u001b[0m\u001b[1;33m\u001b[0m\u001b[0m\n\u001b[0m\u001b[0;32m      4\u001b[0m         \u001b[1;32mreturn\u001b[0m \u001b[0mlist\u001b[0m\u001b[1;33m(\u001b[0m\u001b[0maccumulate\u001b[0m\u001b[1;33m(\u001b[0m\u001b[1;33m[\u001b[0m\u001b[0mfirst\u001b[0m\u001b[1;33m]\u001b[0m \u001b[1;33m+\u001b[0m \u001b[0mencoded\u001b[0m\u001b[1;33m,\u001b[0m \u001b[1;32mlambda\u001b[0m \u001b[0mx\u001b[0m\u001b[1;33m,\u001b[0m \u001b[0my\u001b[0m\u001b[1;33m:\u001b[0m \u001b[0mx\u001b[0m \u001b[1;33m^\u001b[0m \u001b[0my\u001b[0m\u001b[1;33m)\u001b[0m\u001b[1;33m)\u001b[0m\u001b[1;33m\u001b[0m\u001b[1;33m\u001b[0m\u001b[0m\n",
      "\u001b[1;31mTypeError\u001b[0m: 'type' object is not subscriptable"
     ]
    }
   ],
   "source": [
    "# works fine in leetcode too.. \n",
    "class Solution:\n",
    "    def decode(self, encoded: list[int], first: int) -> List[int]:\n",
    "        return list(accumulate([first] + encoded, lambda x, y: x ^ y))"
   ]
  },
  {
   "cell_type": "code",
   "execution_count": null,
   "metadata": {},
   "outputs": [],
   "source": []
  },
  {
   "cell_type": "markdown",
   "metadata": {},
   "source": [
    "### Jason\n",
    "\n",
    "#### 1528 - Shuffle String"
   ]
  },
  {
   "cell_type": "code",
   "execution_count": 1,
   "metadata": {},
   "outputs": [],
   "source": [
    "s = \"codeleet\"\n",
    "indices = [4,5,6,7,0,2,1,3]\n",
    "# Expected: leetcode"
   ]
  },
  {
   "cell_type": "code",
   "execution_count": 4,
   "metadata": {},
   "outputs": [],
   "source": [
    "# Edge Cases \n",
    "s = \"aaiougrt\"\n",
    "indices = [4,0,2,6,7,3,1,5]\n",
    "# Expected: arigatou "
   ]
  },
  {
   "cell_type": "code",
   "execution_count": 2,
   "metadata": {},
   "outputs": [
    {
     "name": "stdout",
     "output_type": "stream",
     "text": [
      "leetcode\n"
     ]
    }
   ],
   "source": [
    "# find the length of s \n",
    "N = len(s)\n",
    "\n",
    "# create a list with N number of empty strings \n",
    "a = [\"\"] * N\n",
    "\n",
    "# i = The count of the current iteration   x = The value of the item at the current iteration\n",
    "# using enumerate allows us to use the values as the index set (SUPER IMPORTANT)\n",
    "for i, x in enumerate(indices): \n",
    "    \n",
    "    # \"list a\" at index x will equal to s at index x \n",
    "    a[x] = s[i]\n",
    "    \n",
    "    # Join all items from \"list a\" into a string, using \"\" as a character separator. Note \"\" is NOT an empty space.\n",
    "print(\"\".join(a))"
   ]
  },
  {
   "cell_type": "code",
   "execution_count": 3,
   "metadata": {},
   "outputs": [
    {
     "name": "stdout",
     "output_type": "stream",
     "text": [
      "0 4\n",
      "1 5\n",
      "2 6\n",
      "3 7\n",
      "4 0\n",
      "5 2\n",
      "6 1\n",
      "7 3\n"
     ]
    }
   ],
   "source": [
    "# for illustrative purposes - we will set x as the indexing set, typically i would be \n",
    "for i, x in enumerate(indices):\n",
    "    print(i, x)"
   ]
  },
  {
   "cell_type": "markdown",
   "metadata": {},
   "source": [
    "**1512 - Number of Good Pairs**"
   ]
  },
  {
   "cell_type": "code",
   "execution_count": 1,
   "metadata": {},
   "outputs": [],
   "source": [
    "nums = [1,2,3,1,1,3]\n",
    "# Expected Output: 4\n",
    "# Explanation: There are 4 good pairs (0,3), (0,4), (3,4), (2,5) 0-indexed"
   ]
  },
  {
   "cell_type": "code",
   "execution_count": null,
   "metadata": {},
   "outputs": [],
   "source": [
    "# edge cases\n",
    "\n",
    "nums = [1,1,1,1]\n",
    "# Expected Output: 6\n",
    "# Explanation: Each pair in the array are good."
   ]
  },
  {
   "cell_type": "code",
   "execution_count": null,
   "metadata": {},
   "outputs": [],
   "source": [
    "nums = [1,2,3]\n",
    "# Expected Output: 0"
   ]
  },
  {
   "cell_type": "code",
   "execution_count": 2,
   "metadata": {},
   "outputs": [
    {
     "name": "stdout",
     "output_type": "stream",
     "text": [
      "{1: 1, 2: 1, 3: 1}\n",
      "{1: 2, 2: 1, 3: 1}\n",
      "{1: 3, 2: 1, 3: 1}\n",
      "4\n"
     ]
    }
   ],
   "source": [
    "# initialize counter + empty dictionary \n",
    "counter = 0\n",
    "dic = {}\n",
    "\n",
    "# loop through each element in \"list nums\"\n",
    "for element in nums:\n",
    "    \n",
    "    # if element is a key in dictionary \n",
    "    if element in dic:\n",
    "        \n",
    "        # added print here for visual purposes \n",
    "        print(dic)\n",
    "        \n",
    "        # add the value of dic[element] to counter \n",
    "        counter += dic[element]\n",
    "        dic[element] += 1 \n",
    "    \n",
    "    # if the element is not a key in the dictionary \n",
    "    # create a key in the dictionary with a value of 1 \n",
    "    # we choose 1 because it represents the first time the unique element has been counted  \n",
    "    else:\n",
    "        dic[element] = 1\n",
    "\n",
    "print(counter)"
   ]
  },
  {
   "cell_type": "code",
   "execution_count": 3,
   "metadata": {},
   "outputs": [
    {
     "name": "stdout",
     "output_type": "stream",
     "text": [
      "The original list: [1, 2, 3, 1, 1, 3]\n",
      "All possible pairs: [(1, 2), (1, 3), (1, 1), (1, 1), (1, 3), (2, 3), (2, 1), (2, 1), (2, 3), (3, 1), (3, 1), (3, 3), (1, 1), (1, 3), (1, 3)]\n"
     ]
    }
   ],
   "source": [
    "# Bonus - Finding all possible pairs + to visually verify edge cases \n",
    "\n",
    "# printing original list\n",
    "print(\"The original list: \" + str(nums))\n",
    "\n",
    "# All possible pairs in list\n",
    "# Using list comprehension + enumerate()\n",
    "\n",
    "# enumerate pythonically provides index + value respectively \n",
    "# list comprehension works as both for loops are equal in length\n",
    "# \n",
    "pairs = [(a, b) for idx, a in enumerate(nums) for b in nums[idx + 1:]]\n",
    "\n",
    "# printing result\n",
    "print('All possible pairs: ' + str(pairs))"
   ]
  },
  {
   "cell_type": "markdown",
   "metadata": {},
   "source": [
    "**1480 - Running Sum of 1d Array**"
   ]
  },
  {
   "cell_type": "code",
   "execution_count": 1,
   "metadata": {},
   "outputs": [],
   "source": [
    "nums = [1,2,3,4]\n",
    "# Expected Output: [1,3,6,10]\n",
    "# Explanation: Running sum is obtained as follows: [1, 1+2, 1+2+3, 1+2+3+4]."
   ]
  },
  {
   "cell_type": "code",
   "execution_count": null,
   "metadata": {},
   "outputs": [],
   "source": [
    "# Edge Cases\n",
    "nums = [1,1,1,1,1]\n",
    "# Expected Output: [1,2,3,4,5]\n",
    "# Explanation: Running sum is obtained as follows: [1, 1+1, 1+1+1, 1+1+1+1, 1+1+1+1+1]."
   ]
  },
  {
   "cell_type": "code",
   "execution_count": null,
   "metadata": {},
   "outputs": [],
   "source": [
    "nums = [3,1,2,10,1]\n",
    "# Expected Output: [3,4,6,16,17]"
   ]
  },
  {
   "cell_type": "code",
   "execution_count": 2,
   "metadata": {},
   "outputs": [
    {
     "name": "stdout",
     "output_type": "stream",
     "text": [
      "[1, 3, 6, 10]\n"
     ]
    }
   ],
   "source": [
    "# first we need to find the positions we need to loop through\n",
    "\n",
    "# start from 1 till len(nums)     len(nums) = 4   -> 0, 1, 2, 3     therefore range(1,len(nums)) = 1, 2, 3\n",
    "for i in range(1, len(nums)):\n",
    "    \n",
    "    # running sum starting from position 1      +=  -> adds nums[i-1] to current position\n",
    "    # list updates each iteration \n",
    "    nums[i] += nums[i - 1]\n",
    "    \n",
    "print(nums)"
   ]
  },
  {
   "cell_type": "markdown",
   "metadata": {},
   "source": [
    "**1431 - Kids With the Greatest Number of Candies**"
   ]
  },
  {
   "cell_type": "code",
   "execution_count": 1,
   "metadata": {},
   "outputs": [],
   "source": [
    "candies = [2,3,5,1,3]\n",
    "extraCandies = 3\n",
    "# Expected Output: [true,true,true,false,true] \n",
    "# Explanation: If you give all extraCandies to:\n",
    "# - Kid 1, they will have 2 + 3 = 5 candies, which is the greatest among the kids.\n",
    "# - Kid 2, they will have 3 + 3 = 6 candies, which is the greatest among the kids.\n",
    "# - Kid 3, they will have 5 + 3 = 8 candies, which is the greatest among the kids.\n",
    "# - Kid 4, they will have 1 + 3 = 4 candies, which is not the greatest among the kids.\n",
    "# - Kid 5, they will have 3 + 3 = 6 candies, which is the greatest among the kids."
   ]
  },
  {
   "cell_type": "code",
   "execution_count": null,
   "metadata": {},
   "outputs": [],
   "source": [
    "# Edge Cases\n",
    "candies = [4,2,1,1,2]\n",
    "extraCandies = 1\n",
    "# Expected Output: [true,false,false,false,false] \n",
    "# Explanation: There is only 1 extra candy.\n",
    "# Kid 1 will always have the greatest number of candies, even if a different kid is given the extra candy."
   ]
  },
  {
   "cell_type": "code",
   "execution_count": null,
   "metadata": {},
   "outputs": [],
   "source": [
    "candies = [12,1,12]\n",
    "extraCandies = 10\n",
    "# Expected Output: [true,false,true]"
   ]
  },
  {
   "cell_type": "code",
   "execution_count": 2,
   "metadata": {},
   "outputs": [
    {
     "name": "stdout",
     "output_type": "stream",
     "text": [
      "[True, True, True, False, True]\n"
     ]
    }
   ],
   "source": [
    "# find max value from candies \n",
    "# Check if candies[i] + extraCandies = new greatest value\n",
    "# If yes return True, If no return False\n",
    "# Repeat for all\n",
    "\n",
    "# creating output list\n",
    "output = []\n",
    "\n",
    "# finding the highest value in candies list  \n",
    "most_candies = max(candies)\n",
    "\n",
    "# loop through the candies list\n",
    "for i in range(len(candies)):\n",
    "    \n",
    "    # new candy amount - We could have reduced this line to the if statement line\n",
    "    new_candy_amount = candies[i] + extraCandies\n",
    "    \n",
    "    # if new amount is greater than equal to most_candies \n",
    "    if new_candy_amount >= most_candies:\n",
    "        output.append(True)\n",
    "    else:\n",
    "        output.append(False)\n",
    "print(output)"
   ]
  },
  {
   "cell_type": "code",
   "execution_count": null,
   "metadata": {},
   "outputs": [],
   "source": [
    "# Bonus - 1 liner I found in the solutions \n",
    "\n",
    "# list comprehension \n",
    "return[candy+extraCandies >= maxCandies for candy in candies]"
   ]
  },
  {
   "cell_type": "markdown",
   "metadata": {},
   "source": [
    "**1342 - Number of Steps to Reduce a Number to Zero**"
   ]
  },
  {
   "cell_type": "code",
   "execution_count": 2,
   "metadata": {},
   "outputs": [],
   "source": [
    "num = 14\n",
    "# Expected Output: 6\n",
    "# Explanation: \n",
    "# Step 1) 14 is even; divide by 2 and obtain 7. \n",
    "# Step 2) 7 is odd; subtract 1 and obtain 6.\n",
    "# Step 3) 6 is even; divide by 2 and obtain 3. \n",
    "# Step 4) 3 is odd; subtract 1 and obtain 2. \n",
    "# Step 5) 2 is even; divide by 2 and obtain 1. \n",
    "# Step 6) 1 is odd; subtract 1 and obtain 0."
   ]
  },
  {
   "cell_type": "code",
   "execution_count": null,
   "metadata": {},
   "outputs": [],
   "source": [
    "# Edge Cases\n",
    "num = 8\n",
    "# Expected Output: 4\n",
    "# Explanation: \n",
    "# Step 1) 8 is even; divide by 2 and obtain 4. \n",
    "# Step 2) 4 is even; divide by 2 and obtain 2. \n",
    "# Step 3) 2 is even; divide by 2 and obtain 1. \n",
    "# Step 4) 1 is odd; subtract 1 and obtain 0."
   ]
  },
  {
   "cell_type": "code",
   "execution_count": null,
   "metadata": {},
   "outputs": [],
   "source": [
    "num = 123\n",
    "# Expected Output: 12"
   ]
  },
  {
   "cell_type": "code",
   "execution_count": 3,
   "metadata": {},
   "outputs": [
    {
     "name": "stdout",
     "output_type": "stream",
     "text": [
      "6\n"
     ]
    }
   ],
   "source": [
    "# Using while loop so I can print counter when num is less than or equal to 0. \n",
    "# Note we use num > 0 NOT num >= 0 because >= will keep printing 0 ie counter goes infinity \n",
    "# 0 is a even number and 0/2 = 0 \n",
    "\n",
    "# make counter \n",
    "counter = 0 \n",
    "\n",
    "# while num is greater than 0 keep looping \n",
    "while num > 0:\n",
    "\n",
    "    # if num is a even number\n",
    "    if num % 2 == 0:\n",
    "        num = num / 2 \n",
    "        counter += 1 \n",
    "        \n",
    "    # else num is a odd number than subtract one \n",
    "    else:\n",
    "        num = num - 1 \n",
    "        counter += 1\n",
    "\n",
    "print(counter)"
   ]
  },
  {
   "cell_type": "markdown",
   "metadata": {},
   "source": [
    "**1389 - Create Target Array in the Given Order**"
   ]
  },
  {
   "cell_type": "code",
   "execution_count": 4,
   "metadata": {},
   "outputs": [],
   "source": [
    "nums = [0,1,2,3,4]\n",
    "index = [0,1,2,2,1]\n",
    "# Expected Output: [0,4,1,3,2]\n",
    "# Explanation:\n",
    "# nums       index     target\n",
    "# 0            0        [0]\n",
    "# 1            1        [0,1]\n",
    "# 2            2        [0,1,2]\n",
    "# 3            2        [0,1,3,2]\n",
    "# 4            1        [0,4,1,3,2]"
   ]
  },
  {
   "cell_type": "code",
   "execution_count": null,
   "metadata": {},
   "outputs": [],
   "source": [
    "#Edge Cases\n",
    "nums = [1,2,3,4,0]\n",
    "index = [0,1,2,3,0]\n",
    "# Expected Output: [0,1,2,3,4]\n",
    "# Explanation:\n",
    "# nums       index     target\n",
    "# 1            0        [1]\n",
    "# 2            1        [1,2]\n",
    "# 3            2        [1,2,3]\n",
    "# 4            3        [1,2,3,4]\n",
    "# 0            0        [0,1,2,3,4]"
   ]
  },
  {
   "cell_type": "code",
   "execution_count": null,
   "metadata": {},
   "outputs": [],
   "source": [
    "nums = [1] \n",
    "index = [0]\n",
    "# Expected Output: [1]"
   ]
  },
  {
   "cell_type": "code",
   "execution_count": 5,
   "metadata": {},
   "outputs": [
    {
     "name": "stdout",
     "output_type": "stream",
     "text": [
      "[0, 4, 1, 3, 2]\n"
     ]
    }
   ],
   "source": [
    "# We need to insert num at index i - USING INSERT\n",
    "\n",
    "target = []\n",
    "\n",
    "for i in range(len(index)):\n",
    "    target.insert(index[i], nums[i])\n",
    "    \n",
    "print(target)"
   ]
  },
  {
   "cell_type": "code",
   "execution_count": 6,
   "metadata": {},
   "outputs": [
    {
     "name": "stdout",
     "output_type": "stream",
     "text": [
      "[0, 4, 1, 3, 2]\n"
     ]
    }
   ],
   "source": [
    "# WITHOUT INSERT - found this in solutions - I don't really understand this - feel free to comment on it \n",
    "\n",
    "target = []\n",
    "for i in range(len(index)):\n",
    "    \n",
    "    target = target[:index[i]] + [nums[i]] + target[index[i]:]\n",
    "\n",
    "print(target)"
   ]
  },
  {
   "cell_type": "markdown",
   "metadata": {},
   "source": [
    "**1913 - Maximum Product Difference Between Two Pairs**"
   ]
  },
  {
   "cell_type": "code",
   "execution_count": 7,
   "metadata": {},
   "outputs": [],
   "source": [
    "nums = [5,6,2,7,4]\n",
    "# Expected Output: 34\n",
    "# Explanation: We can choose indices 1 and 3 for the first pair (6, 7) and indices 2 and 4 for the second pair (2, 4).\n",
    "# The product difference is (6 * 7) -| (2 * 4) = 34."
   ]
  },
  {
   "cell_type": "code",
   "execution_count": null,
   "metadata": {},
   "outputs": [],
   "source": [
    "# Edge Case\n",
    "nums = [4,2,5,9,7,4,8]\n",
    "# Expected Output: 64\n",
    "# Explanation: We can choose indices 3 and 6 for the first pair (9, 8) and indices 1 and 5 for the second pair (2, 4).\n",
    "# The product difference is (9 * 8) - (2 * 4) = 64."
   ]
  },
  {
   "cell_type": "code",
   "execution_count": 8,
   "metadata": {},
   "outputs": [
    {
     "name": "stdout",
     "output_type": "stream",
     "text": [
      "34\n"
     ]
    }
   ],
   "source": [
    "# To get the maximum produce difference, we need to have the first pair to be the largest pairs and\n",
    "# the second pairs to be the smallest pairs \n",
    "\n",
    "# My approach will be first sort the array and then take the last two index as the first pair \n",
    "# and the first two indexes as the second pair\n",
    "\n",
    "import numpy as np\n",
    "nums = np.sort(nums)\n",
    "output = np.prod(nums[-2:]) - np.prod(nums[:2])\n",
    "print(output)"
   ]
  },
  {
   "cell_type": "code",
   "execution_count": 9,
   "metadata": {},
   "outputs": [
    {
     "name": "stdout",
     "output_type": "stream",
     "text": [
      "34\n"
     ]
    }
   ],
   "source": [
    "# Bonus - Solution I found - O(nlogn) time O(1) space\n",
    "nums.sort()\n",
    "print(nums[-1]*nums[-2]-nums[0]*nums[1])"
   ]
  },
  {
   "cell_type": "markdown",
   "metadata": {},
   "source": [
    "**1832 - Check if the Sentence Is Pangram (hash table)**"
   ]
  },
  {
   "cell_type": "code",
   "execution_count": 2,
   "metadata": {},
   "outputs": [],
   "source": [
    "sentence = \"thequickbrownfoxjumpsoverthelazydog\"\n",
    "# Expected Output: true\n",
    "#Explanation: sentence contains at least one of every letter of the English alphabet."
   ]
  },
  {
   "cell_type": "code",
   "execution_count": null,
   "metadata": {},
   "outputs": [],
   "source": [
    "# Edge Cases\n",
    "sentence = \"leetcode\"\n",
    "#Expected Output: false"
   ]
  },
  {
   "cell_type": "code",
   "execution_count": 3,
   "metadata": {},
   "outputs": [
    {
     "data": {
      "text/plain": [
       "True"
      ]
     },
     "execution_count": 3,
     "metadata": {},
     "output_type": "execute_result"
    }
   ],
   "source": [
    "# Got from top solution\n",
    "\n",
    "# Put all characters in a set --> set can only contain unique values\n",
    "# Return if the size of set equals to 26 --> 26 letters in the alphabet \n",
    "# Can return earlier if you like. \n",
    "\n",
    "def checkIfPangram(s):\n",
    "    \n",
    "    # show if the set(s) contains 26 unique values -> returns a boolean because we are using boolean conditions \n",
    "    return len(set(s)) == 26  \n",
    "\n",
    "checkIfPangram(sentence)"
   ]
  },
  {
   "cell_type": "markdown",
   "metadata": {},
   "source": [
    "**1684 - Count the Number of Consistent Strings (hash table)**"
   ]
  },
  {
   "cell_type": "code",
   "execution_count": 2,
   "metadata": {},
   "outputs": [],
   "source": [
    "allowed = \"ab\" \n",
    "words = [\"ad\",\"bd\",\"aaab\",\"baa\",\"badab\"]\n",
    "# Expected Output: 2\n",
    "# Explanation: Strings \"aaab\" and \"baa\" are consistent since they only contain characters 'a' and 'b'."
   ]
  },
  {
   "cell_type": "code",
   "execution_count": null,
   "metadata": {},
   "outputs": [],
   "source": [
    "allowed = \"abc\"\n",
    "words = [\"a\",\"b\",\"c\",\"ab\",\"ac\",\"bc\",\"abc\"]\n",
    "# Expected Output: 7\n",
    "# Explanation: All strings are consistent."
   ]
  },
  {
   "cell_type": "code",
   "execution_count": null,
   "metadata": {},
   "outputs": [],
   "source": [
    "allowed = \"cad\"\n",
    "words = [\"cc\",\"acd\",\"b\",\"ba\",\"bac\",\"bad\",\"ac\",\"d\"]\n",
    "# Expected Output: 4\n",
    "# Explanation: Strings \"cc\", \"acd\", \"ac\", and \"d\" are consistent."
   ]
  },
  {
   "cell_type": "code",
   "execution_count": 3,
   "metadata": {},
   "outputs": [
    {
     "name": "stdout",
     "output_type": "stream",
     "text": [
      "2\n"
     ]
    }
   ],
   "source": [
    "# From Discussion Solutions\n",
    "\n",
    "# converting allowed to a set -> ensuring each letter is unique -> discussion comments say this step is unnecessary\n",
    "allowed = set(allowed)\n",
    "count = 0 \n",
    "\n",
    "# loop through each word in \"words list\"\n",
    "for word in words: \n",
    "\n",
    "    #loop through each letter in word\n",
    "    for letter in word:\n",
    "        \n",
    "        # if letter is not in the \"allowed set\"\n",
    "        if letter not in allowed:\n",
    "            \n",
    "            # increase count by one\n",
    "            count += 1 \n",
    "            \n",
    "            # i think the break allows it go back to the previous loop\n",
    "            break\n",
    "            \n",
    "print(len(words) - count)"
   ]
  },
  {
   "cell_type": "code",
   "execution_count": 4,
   "metadata": {},
   "outputs": [
    {
     "data": {
      "text/plain": [
       "2"
      ]
     },
     "execution_count": 4,
     "metadata": {},
     "output_type": "execute_result"
    }
   ],
   "source": [
    "# Bonus from discussion answers - One Liner \n",
    "sum(all(c in allowed for c in w) for w in words)"
   ]
  },
  {
   "cell_type": "markdown",
   "metadata": {},
   "source": [
    "### Sam"
   ]
  },
  {
   "cell_type": "markdown",
   "metadata": {},
   "source": [
    "**1773. Count Items Matching a Rule** \n",
    "\n",
    "You are given an array `items`, where each `items[i] = [typei, colori, namei]` describes the type, color, and name of the `ith` item. You are also given a rule represented by two strings, `ruleKey` and `ruleValue`.\n",
    "\n",
    "The ith item is said to match the rule if **one** of the following is true:\n",
    "\n",
    "* `ruleKey == \"type\"` and `ruleValue == typei`.\n",
    "* `ruleKey == \"color\"` and `ruleValue == colori`.\n",
    "* `ruleKey == \"name\"` and `ruleValue == namei`.\n",
    "\n",
    "Return the number of items that match the given rule."
   ]
  },
  {
   "cell_type": "code",
   "execution_count": 1,
   "metadata": {},
   "outputs": [
    {
     "ename": "NameError",
     "evalue": "name 'List' is not defined",
     "output_type": "error",
     "traceback": [
      "\u001b[1;31m---------------------------------------------------------------------------\u001b[0m",
      "\u001b[1;31mNameError\u001b[0m                                 Traceback (most recent call last)",
      "\u001b[1;32m<ipython-input-1-09bcd0b0e929>\u001b[0m in \u001b[0;36m<module>\u001b[1;34m\u001b[0m\n\u001b[0;32m      1\u001b[0m \u001b[1;31m# Using the class \"Solution\" given in the problem set\u001b[0m\u001b[1;33m\u001b[0m\u001b[1;33m\u001b[0m\u001b[1;33m\u001b[0m\u001b[0m\n\u001b[0;32m      2\u001b[0m \u001b[1;31m# Works when inputted into Leetcode\u001b[0m\u001b[1;33m\u001b[0m\u001b[1;33m\u001b[0m\u001b[1;33m\u001b[0m\u001b[0m\n\u001b[1;32m----> 3\u001b[1;33m \u001b[1;32mclass\u001b[0m \u001b[0mSolution\u001b[0m\u001b[1;33m:\u001b[0m\u001b[1;33m\u001b[0m\u001b[1;33m\u001b[0m\u001b[0m\n\u001b[0m\u001b[0;32m      4\u001b[0m     \u001b[1;31m# Define function that takes items color, type, and name and filters by specific rules\u001b[0m\u001b[1;33m\u001b[0m\u001b[1;33m\u001b[0m\u001b[1;33m\u001b[0m\u001b[0m\n\u001b[0;32m      5\u001b[0m     \u001b[1;32mdef\u001b[0m \u001b[0mcountMatches\u001b[0m\u001b[1;33m(\u001b[0m\u001b[0mself\u001b[0m\u001b[1;33m,\u001b[0m \u001b[0mitems\u001b[0m\u001b[1;33m:\u001b[0m \u001b[0mList\u001b[0m\u001b[1;33m[\u001b[0m\u001b[0mList\u001b[0m\u001b[1;33m[\u001b[0m\u001b[0mstr\u001b[0m\u001b[1;33m]\u001b[0m\u001b[1;33m]\u001b[0m\u001b[1;33m,\u001b[0m \u001b[0mruleKey\u001b[0m\u001b[1;33m:\u001b[0m \u001b[0mstr\u001b[0m\u001b[1;33m,\u001b[0m \u001b[0mruleValue\u001b[0m\u001b[1;33m:\u001b[0m \u001b[0mstr\u001b[0m\u001b[1;33m)\u001b[0m \u001b[1;33m->\u001b[0m \u001b[0mint\u001b[0m\u001b[1;33m:\u001b[0m\u001b[1;33m\u001b[0m\u001b[1;33m\u001b[0m\u001b[0m\n",
      "\u001b[1;32m<ipython-input-1-09bcd0b0e929>\u001b[0m in \u001b[0;36mSolution\u001b[1;34m()\u001b[0m\n\u001b[0;32m      3\u001b[0m \u001b[1;32mclass\u001b[0m \u001b[0mSolution\u001b[0m\u001b[1;33m:\u001b[0m\u001b[1;33m\u001b[0m\u001b[1;33m\u001b[0m\u001b[0m\n\u001b[0;32m      4\u001b[0m     \u001b[1;31m# Define function that takes items color, type, and name and filters by specific rules\u001b[0m\u001b[1;33m\u001b[0m\u001b[1;33m\u001b[0m\u001b[1;33m\u001b[0m\u001b[0m\n\u001b[1;32m----> 5\u001b[1;33m     \u001b[1;32mdef\u001b[0m \u001b[0mcountMatches\u001b[0m\u001b[1;33m(\u001b[0m\u001b[0mself\u001b[0m\u001b[1;33m,\u001b[0m \u001b[0mitems\u001b[0m\u001b[1;33m:\u001b[0m \u001b[0mList\u001b[0m\u001b[1;33m[\u001b[0m\u001b[0mList\u001b[0m\u001b[1;33m[\u001b[0m\u001b[0mstr\u001b[0m\u001b[1;33m]\u001b[0m\u001b[1;33m]\u001b[0m\u001b[1;33m,\u001b[0m \u001b[0mruleKey\u001b[0m\u001b[1;33m:\u001b[0m \u001b[0mstr\u001b[0m\u001b[1;33m,\u001b[0m \u001b[0mruleValue\u001b[0m\u001b[1;33m:\u001b[0m \u001b[0mstr\u001b[0m\u001b[1;33m)\u001b[0m \u001b[1;33m->\u001b[0m \u001b[0mint\u001b[0m\u001b[1;33m:\u001b[0m\u001b[1;33m\u001b[0m\u001b[1;33m\u001b[0m\u001b[0m\n\u001b[0m\u001b[0;32m      6\u001b[0m         \u001b[1;31m# List comprehension that tests each item in the list \"items\" by rules specified\u001b[0m\u001b[1;33m\u001b[0m\u001b[1;33m\u001b[0m\u001b[1;33m\u001b[0m\u001b[0m\n\u001b[0;32m      7\u001b[0m         \u001b[1;32mreturn\u001b[0m \u001b[0mlen\u001b[0m\u001b[1;33m(\u001b[0m\u001b[1;33m[\u001b[0m\u001b[0mi\u001b[0m \u001b[1;32mfor\u001b[0m \u001b[0mi\u001b[0m \u001b[1;32min\u001b[0m \u001b[0mitems\u001b[0m \u001b[1;32mif\u001b[0m \u001b[1;33m(\u001b[0m\u001b[0mruleKey\u001b[0m \u001b[1;33m==\u001b[0m \u001b[1;34m'type'\u001b[0m \u001b[1;32mand\u001b[0m \u001b[0mruleValue\u001b[0m \u001b[1;33m==\u001b[0m \u001b[0mi\u001b[0m\u001b[1;33m[\u001b[0m\u001b[1;36m0\u001b[0m\u001b[1;33m]\u001b[0m\u001b[1;33m)\u001b[0m \u001b[1;32mor\u001b[0m \u001b[1;33m(\u001b[0m\u001b[0mruleKey\u001b[0m \u001b[1;33m==\u001b[0m \u001b[1;34m'color'\u001b[0m \u001b[1;32mand\u001b[0m \u001b[0mruleValue\u001b[0m \u001b[1;33m==\u001b[0m \u001b[0mi\u001b[0m\u001b[1;33m[\u001b[0m\u001b[1;36m1\u001b[0m\u001b[1;33m]\u001b[0m\u001b[1;33m)\u001b[0m \u001b[1;32mor\u001b[0m \u001b[1;33m(\u001b[0m\u001b[0mruleKey\u001b[0m \u001b[1;33m==\u001b[0m \u001b[1;34m'name'\u001b[0m \u001b[1;32mand\u001b[0m \u001b[0mruleValue\u001b[0m \u001b[1;33m==\u001b[0m \u001b[0mi\u001b[0m\u001b[1;33m[\u001b[0m\u001b[1;36m2\u001b[0m\u001b[1;33m]\u001b[0m\u001b[1;33m)\u001b[0m\u001b[1;33m]\u001b[0m\u001b[1;33m)\u001b[0m\u001b[1;33m\u001b[0m\u001b[1;33m\u001b[0m\u001b[0m\n",
      "\u001b[1;31mNameError\u001b[0m: name 'List' is not defined"
     ]
    }
   ],
   "source": [
    "# Using the class \"Solution\" given in the problem set\n",
    "# Works when inputted into Leetcode\n",
    "class Solution:\n",
    "    # Define function that takes items color, type, and name and filters by specific rules\n",
    "    def countMatches(self, items: List[List[str]], ruleKey: str, ruleValue: str) -> int:\n",
    "        # List comprehension that tests each item in the list \"items\" by rules specified\n",
    "        return len([i for i in items if (ruleKey == 'type' and ruleValue == i[0]) or (ruleKey == 'color' and ruleValue == i[1]) or (ruleKey == 'name' and ruleValue == i[2])])\n",
    "    \n",
    "            "
   ]
  },
  {
   "cell_type": "markdown",
   "metadata": {},
   "source": [
    "**1221 - Split a String in Balanced Strings**"
   ]
  },
  {
   "cell_type": "markdown",
   "metadata": {},
   "source": [
    "**Balanced** strings are those that have an equal quantity of 'L' and 'R' characters.\n",
    "\n",
    "Given a **balanced** string `s`, split it in the maximum amount of balanced strings.\n",
    "\n",
    "Return the maximum amount of split **balanced** strings."
   ]
  },
  {
   "cell_type": "code",
   "execution_count": 2,
   "metadata": {},
   "outputs": [],
   "source": [
    "class Solution:\n",
    "    def balancedStringSplit(self, s: str) -> int:\n",
    "        '''\n",
    "        Function that takes in a balanced string of L's and R's and returns\n",
    "        the string split into the maximum amount of balanced strings.\n",
    "        '''\n",
    "        # Instantiate L count\n",
    "        L = 0\n",
    "        # Instantiate R count\n",
    "        R = 0\n",
    "        # Instantiate split balanced strings\n",
    "        LRbalanced = 0\n",
    "        # For loop that iterates through string of L's and R's\n",
    "        for letter in s:\n",
    "            if letter == 'L':\n",
    "                L += 1\n",
    "            elif letter == 'R':\n",
    "                R += 1\n",
    "            if R == L:\n",
    "                LRbalanced += 1\n",
    "        return LRbalanced"
   ]
  },
  {
   "cell_type": "markdown",
   "metadata": {},
   "source": [
    "**1791 - Find Center of Star Graph**"
   ]
  },
  {
   "cell_type": "markdown",
   "metadata": {},
   "source": [
    "There is an undirected **star** graph consisting of `n` nodes labeled from `1` to `n`. A star graph is a graph where there is one **center** node and **exactly** `n - 1` edges that connect the center node with every other node.\n",
    "\n",
    "You are given a 2D integer array `edges` where each `edges[i] = [ui, vi]` indicates that there is an edge between the nodes `ui` and `vi`. Return the center of the given star graph."
   ]
  },
  {
   "cell_type": "code",
   "execution_count": 3,
   "metadata": {},
   "outputs": [
    {
     "ename": "NameError",
     "evalue": "name 'List' is not defined",
     "output_type": "error",
     "traceback": [
      "\u001b[1;31m---------------------------------------------------------------------------\u001b[0m",
      "\u001b[1;31mNameError\u001b[0m                                 Traceback (most recent call last)",
      "\u001b[1;32m<ipython-input-3-f9fe6ad7895f>\u001b[0m in \u001b[0;36m<module>\u001b[1;34m\u001b[0m\n\u001b[1;32m----> 1\u001b[1;33m \u001b[1;32mclass\u001b[0m \u001b[0mSolution\u001b[0m\u001b[1;33m:\u001b[0m\u001b[1;33m\u001b[0m\u001b[1;33m\u001b[0m\u001b[0m\n\u001b[0m\u001b[0;32m      2\u001b[0m     \u001b[1;32mdef\u001b[0m \u001b[0mfindCenter\u001b[0m\u001b[1;33m(\u001b[0m\u001b[0mself\u001b[0m\u001b[1;33m,\u001b[0m \u001b[0medges\u001b[0m\u001b[1;33m:\u001b[0m \u001b[0mList\u001b[0m\u001b[1;33m[\u001b[0m\u001b[0mList\u001b[0m\u001b[1;33m[\u001b[0m\u001b[0mint\u001b[0m\u001b[1;33m]\u001b[0m\u001b[1;33m]\u001b[0m\u001b[1;33m)\u001b[0m \u001b[1;33m->\u001b[0m \u001b[0mint\u001b[0m\u001b[1;33m:\u001b[0m\u001b[1;33m\u001b[0m\u001b[1;33m\u001b[0m\u001b[0m\n\u001b[0;32m      3\u001b[0m         '''\n\u001b[0;32m      4\u001b[0m         \u001b[0mFunction\u001b[0m \u001b[0mthat\u001b[0m \u001b[0mtakes\u001b[0m \u001b[1;32min\u001b[0m \u001b[1;36m2\u001b[0m\u001b[1;33m-\u001b[0m\u001b[0mD\u001b[0m \u001b[0minteger\u001b[0m \u001b[0marray\u001b[0m \u001b[0mof\u001b[0m \u001b[0medges\u001b[0m \u001b[1;32mand\u001b[0m \u001b[0mreturns\u001b[0m \u001b[0mthe\u001b[0m \u001b[0mcenter\u001b[0m \u001b[0mof\u001b[0m \u001b[0mthe\u001b[0m \u001b[0mnodes\u001b[0m\u001b[1;33m\u001b[0m\u001b[1;33m\u001b[0m\u001b[0m\n\u001b[0;32m      5\u001b[0m         '''\n",
      "\u001b[1;32m<ipython-input-3-f9fe6ad7895f>\u001b[0m in \u001b[0;36mSolution\u001b[1;34m()\u001b[0m\n\u001b[0;32m      1\u001b[0m \u001b[1;32mclass\u001b[0m \u001b[0mSolution\u001b[0m\u001b[1;33m:\u001b[0m\u001b[1;33m\u001b[0m\u001b[1;33m\u001b[0m\u001b[0m\n\u001b[1;32m----> 2\u001b[1;33m     \u001b[1;32mdef\u001b[0m \u001b[0mfindCenter\u001b[0m\u001b[1;33m(\u001b[0m\u001b[0mself\u001b[0m\u001b[1;33m,\u001b[0m \u001b[0medges\u001b[0m\u001b[1;33m:\u001b[0m \u001b[0mList\u001b[0m\u001b[1;33m[\u001b[0m\u001b[0mList\u001b[0m\u001b[1;33m[\u001b[0m\u001b[0mint\u001b[0m\u001b[1;33m]\u001b[0m\u001b[1;33m]\u001b[0m\u001b[1;33m)\u001b[0m \u001b[1;33m->\u001b[0m \u001b[0mint\u001b[0m\u001b[1;33m:\u001b[0m\u001b[1;33m\u001b[0m\u001b[1;33m\u001b[0m\u001b[0m\n\u001b[0m\u001b[0;32m      3\u001b[0m         '''\n\u001b[0;32m      4\u001b[0m         \u001b[0mFunction\u001b[0m \u001b[0mthat\u001b[0m \u001b[0mtakes\u001b[0m \u001b[1;32min\u001b[0m \u001b[1;36m2\u001b[0m\u001b[1;33m-\u001b[0m\u001b[0mD\u001b[0m \u001b[0minteger\u001b[0m \u001b[0marray\u001b[0m \u001b[0mof\u001b[0m \u001b[0medges\u001b[0m \u001b[1;32mand\u001b[0m \u001b[0mreturns\u001b[0m \u001b[0mthe\u001b[0m \u001b[0mcenter\u001b[0m \u001b[0mof\u001b[0m \u001b[0mthe\u001b[0m \u001b[0mnodes\u001b[0m\u001b[1;33m\u001b[0m\u001b[1;33m\u001b[0m\u001b[0m\n\u001b[0;32m      5\u001b[0m         '''\n",
      "\u001b[1;31mNameError\u001b[0m: name 'List' is not defined"
     ]
    }
   ],
   "source": [
    "class Solution:\n",
    "    def findCenter(self, edges: List[List[int]]) -> int:\n",
    "        '''\n",
    "        Function that takes in 2-D integer array of edges and returns the center of the nodes\n",
    "        '''\n",
    "        # Create a unique list of nodes\n",
    "        nodes = set()\n",
    "        \n",
    "        # Iterate through each \"edge\" and add it to our unique set list of nodes. Loop continues until it finds a repeating \"edge\"\n",
    "        # Returns the edge that is repeated, which indicates the center of the star graph\n",
    "        for edge in edges:                  \n",
    "            if edge[0] in nodes:\n",
    "                return edge[0]\n",
    "            elif edge[1] in nodes:\n",
    "                return edge[1]\n",
    "            nodes.add(edge[0])\n",
    "            nodes.add(edge[1])  "
   ]
  },
  {
   "cell_type": "markdown",
   "metadata": {},
   "source": [
    "**1486 - XOR Operation in an Array**"
   ]
  },
  {
   "cell_type": "markdown",
   "metadata": {},
   "source": [
    "Given an integer `n` and an integer `start`.\n",
    "\n",
    "Define an array `nums` where `nums[i] = start + 2*i (0-indexed)` and `n == nums.length`.\n",
    "\n",
    "Return the bitwise XOR of all elements of `nums`.\n",
    "\n",
    " "
   ]
  },
  {
   "cell_type": "code",
   "execution_count": 4,
   "metadata": {},
   "outputs": [],
   "source": [
    "class Solution:\n",
    "    def xorOperation(self, n: int, start: int) -> int:\n",
    "        '''\n",
    "        Function that returns bitwise XOR of all elements of numbers\n",
    "        ''' \n",
    "        # Create empty list to store integers\n",
    "        nums = []\n",
    "        # Create variable to store XOR value\n",
    "        XOR = 0\n",
    "        # Loop through each integer in \"n\" and append it to list \"nums\", then apply specified rules\n",
    "        # Then use ^= operator to return the XOR value of newly created nums list\n",
    "        for integer in range(n):\n",
    "            nums.append(integer)\n",
    "            nums[integer] = start + 2*integer\n",
    "            XOR ^= nums[integer]\n",
    "        return XOR"
   ]
  },
  {
   "cell_type": "code",
   "execution_count": null,
   "metadata": {},
   "outputs": [],
   "source": []
  }
 ],
 "metadata": {
  "hide_input": false,
  "kernelspec": {
   "display_name": "Python 3",
   "language": "python",
   "name": "python3"
  },
  "language_info": {
   "codemirror_mode": {
    "name": "ipython",
    "version": 3
   },
   "file_extension": ".py",
   "mimetype": "text/x-python",
   "name": "python",
   "nbconvert_exporter": "python",
   "pygments_lexer": "ipython3",
   "version": "3.8.5"
  },
  "toc": {
   "base_numbering": 1,
   "nav_menu": {},
   "number_sections": true,
   "sideBar": true,
   "skip_h1_title": false,
   "title_cell": "Table of Contents",
   "title_sidebar": "Contents",
   "toc_cell": false,
   "toc_position": {},
   "toc_section_display": true,
   "toc_window_display": false
  },
  "varInspector": {
   "cols": {
    "lenName": 16,
    "lenType": 16,
    "lenVar": 40
   },
   "kernels_config": {
    "python": {
     "delete_cmd_postfix": "",
     "delete_cmd_prefix": "del ",
     "library": "var_list.py",
     "varRefreshCmd": "print(var_dic_list())"
    },
    "r": {
     "delete_cmd_postfix": ") ",
     "delete_cmd_prefix": "rm(",
     "library": "var_list.r",
     "varRefreshCmd": "cat(var_dic_list()) "
    }
   },
   "types_to_exclude": [
    "module",
    "function",
    "builtin_function_or_method",
    "instance",
    "_Feature"
   ],
   "window_display": false
  }
 },
 "nbformat": 4,
 "nbformat_minor": 5
}
