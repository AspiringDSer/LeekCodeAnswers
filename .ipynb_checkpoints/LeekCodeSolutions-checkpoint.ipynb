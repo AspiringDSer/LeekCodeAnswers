{
 "cells": [
  {
   "cell_type": "markdown",
   "id": "deb52e5f",
   "metadata": {},
   "source": [
    "# LeekCode Solutions Notebook"
   ]
  },
  {
   "cell_type": "markdown",
   "id": "95eb6491",
   "metadata": {},
   "source": [
    "**Sample Schedule** \n",
    "\n",
    "Week 1: Pick 2 from your list \n",
    "\n",
    "Week 2: Pick 1 from your list + 1 from each non-your-list ^_^ \n",
    "\n",
    "Week 3: Repeat week 2"
   ]
  },
  {
   "cell_type": "markdown",
   "id": "25a93212",
   "metadata": {},
   "source": [
    "**NOTE** I'll update the list when needed. Please **BOLD** your question when you have completed and submitted with the answers below. "
   ]
  },
  {
   "cell_type": "markdown",
   "id": "b00e31c5",
   "metadata": {},
   "source": [
    "**Jason**\n",
    "\n",
    "1528 - Shuffle String\n",
    "\n",
    "1512 - Number of Good Pairs \n",
    "\n",
    "1480 - Running Sum of 1d Array\n",
    "\n",
    "1431 - Kids With the Greatest Number of Candies"
   ]
  },
  {
   "cell_type": "markdown",
   "id": "91b58ab8",
   "metadata": {},
   "source": [
    "**Katya** \n",
    "\n",
    "1603 - Design Parking System\n",
    "\n",
    "771 - Jewels and Stones\n",
    "\n",
    "1108 - Defanging an IP Address\n",
    "\n",
    "1672 - Richest Customer Wealth"
   ]
  },
  {
   "cell_type": "markdown",
   "id": "7d757674",
   "metadata": {},
   "source": [
    "**Yash** \n",
    "\n",
    "1470 - Shuffle the Array\n",
    "\n",
    "1365 - How Many Numbers Are Smaller Than the Current Number\n",
    "\n",
    "1929 - Concatenation of Array\n",
    "\n",
    "1920 - Build Array from Permutation"
   ]
  },
  {
   "cell_type": "code",
   "execution_count": null,
   "id": "eb4e803a",
   "metadata": {},
   "outputs": [],
   "source": []
  },
  {
   "cell_type": "markdown",
   "id": "b55fa792",
   "metadata": {},
   "source": [
    "**Example**\n",
    "LeekCode Number: 1929 - Concatenation of Array"
   ]
  },
  {
   "cell_type": "code",
   "execution_count": null,
   "id": "a36a995d",
   "metadata": {},
   "outputs": [],
   "source": [
    "# Code + Comments here"
   ]
  },
  {
   "cell_type": "code",
   "execution_count": null,
   "id": "cd1e497e",
   "metadata": {},
   "outputs": [],
   "source": [
    "## TESTING PULL AND PUSH - will delete"
   ]
  },
  {
   "cell_type": "markdown",
   "id": "0bf38c8a",
   "metadata": {},
   "source": [
    "### Katya \n",
    "\n",
    "#### 1603 - Design Parking System \n",
    "\n",
    "Design a parking system for a parking lot. The parking lot has three kinds of parking spaces: big, medium, and small, with a fixed number of slots for each size.\n",
    "\n",
    "Implement the ParkingSystem class:\n",
    "\n",
    "- `ParkingSystem(int big, int medium, int small)` Initializes object of the `ParkingSystem` class. The number of slots for each parking space are given as part of the constructor.\n",
    "- `bool` `addCar`(int `carType`) Checks whether there is a parking space of `carType` for the car that wants to get into the parking lot. `carType` can be of three kinds: big, medium, or small, which are represented by 1, 2, and 3 respectively. A car can only park in a parking space of its `carType`. If there is no space available, return false, else park the car in that size space and return true.\n",
    "\n",
    "\n",
    "Input: \n",
    "`[\"ParkingSystem\",\"addCar\",\"addCar\",\"addCar\",\"addCar\"] [[1,1,0],[1],[2],[3],[1]]`"
   ]
  },
  {
   "cell_type": "code",
   "execution_count": 3,
   "id": "41f23452",
   "metadata": {
    "ExecuteTime": {
     "end_time": "2021-07-13T16:48:44.739323Z",
     "start_time": "2021-07-13T16:48:44.731321Z"
    }
   },
   "outputs": [],
   "source": [
    "class ParkingSystem:\n",
    "\n",
    "    def __init__(self, big: int, medium: int, small: int):\n",
    "        self.cars = [big, medium, small]\n",
    "\n",
    "    def addCar(self, carType: int) -> bool:\n",
    "        if self.cars[carType-1] > 0: \n",
    "            self.cars[carType-1]-=1\n",
    "            return True\n",
    "        else:\n",
    "            return False\n",
    "            \n",
    "\n",
    "\n",
    "# Your ParkingSystem object will be instantiated and called as such:\n",
    "# obj = ParkingSystem(big, medium, small)\n",
    "# param_1 = obj.addCar(carType)\n",
    "\n",
    "# got this problem correct, unsure how to instatiate this here. \n"
   ]
  },
  {
   "cell_type": "code",
   "execution_count": 6,
   "id": "081c7d55",
   "metadata": {
    "ExecuteTime": {
     "end_time": "2021-07-13T16:49:51.086276Z",
     "start_time": "2021-07-13T16:49:51.068272Z"
    }
   },
   "outputs": [
    {
     "ename": "TypeError",
     "evalue": "__init__() missing 1 required positional argument: 'small'",
     "output_type": "error",
     "traceback": [
      "\u001b[1;31m---------------------------------------------------------------------------\u001b[0m",
      "\u001b[1;31mTypeError\u001b[0m                                 Traceback (most recent call last)",
      "\u001b[1;32m<ipython-input-6-0c77dbbeab34>\u001b[0m in \u001b[0;36m<module>\u001b[1;34m\u001b[0m\n\u001b[1;32m----> 1\u001b[1;33m \u001b[0mobj\u001b[0m \u001b[1;33m=\u001b[0m \u001b[0mParkingSystem\u001b[0m\u001b[1;33m(\u001b[0m\u001b[1;33m[\u001b[0m\u001b[1;34m\"ParkingSystem\"\u001b[0m\u001b[1;33m,\u001b[0m\u001b[1;34m\"addCar\"\u001b[0m\u001b[1;33m,\u001b[0m\u001b[1;34m\"addCar\"\u001b[0m\u001b[1;33m,\u001b[0m\u001b[1;34m\"addCar\"\u001b[0m\u001b[1;33m,\u001b[0m\u001b[1;34m\"addCar\"\u001b[0m\u001b[1;33m]\u001b[0m\u001b[1;33m,\u001b[0m \u001b[1;33m[\u001b[0m\u001b[1;33m[\u001b[0m\u001b[1;36m1\u001b[0m\u001b[1;33m,\u001b[0m\u001b[1;36m1\u001b[0m\u001b[1;33m,\u001b[0m\u001b[1;36m0\u001b[0m\u001b[1;33m]\u001b[0m\u001b[1;33m,\u001b[0m\u001b[1;33m[\u001b[0m\u001b[1;36m1\u001b[0m\u001b[1;33m]\u001b[0m\u001b[1;33m,\u001b[0m\u001b[1;33m[\u001b[0m\u001b[1;36m2\u001b[0m\u001b[1;33m]\u001b[0m\u001b[1;33m,\u001b[0m\u001b[1;33m[\u001b[0m\u001b[1;36m3\u001b[0m\u001b[1;33m]\u001b[0m\u001b[1;33m,\u001b[0m\u001b[1;33m[\u001b[0m\u001b[1;36m1\u001b[0m\u001b[1;33m]\u001b[0m\u001b[1;33m]\u001b[0m\u001b[1;33m)\u001b[0m\u001b[1;33m\u001b[0m\u001b[1;33m\u001b[0m\u001b[0m\n\u001b[0m",
      "\u001b[1;31mTypeError\u001b[0m: __init__() missing 1 required positional argument: 'small'"
     ]
    }
   ],
   "source": []
  },
  {
   "cell_type": "code",
   "execution_count": null,
   "id": "b4d80a40",
   "metadata": {},
   "outputs": [],
   "source": []
  }
 ],
 "metadata": {
  "hide_input": false,
  "kernelspec": {
   "display_name": "Python 3",
   "language": "python",
   "name": "python3"
  },
  "language_info": {
   "codemirror_mode": {
    "name": "ipython",
    "version": 3
   },
   "file_extension": ".py",
   "mimetype": "text/x-python",
   "name": "python",
   "nbconvert_exporter": "python",
   "pygments_lexer": "ipython3",
   "version": "3.8.8"
  },
  "toc": {
   "base_numbering": 1,
   "nav_menu": {},
   "number_sections": true,
   "sideBar": true,
   "skip_h1_title": false,
   "title_cell": "Table of Contents",
   "title_sidebar": "Contents",
   "toc_cell": false,
   "toc_position": {},
   "toc_section_display": true,
   "toc_window_display": false
  },
  "varInspector": {
   "cols": {
    "lenName": 16,
    "lenType": 16,
    "lenVar": 40
   },
   "kernels_config": {
    "python": {
     "delete_cmd_postfix": "",
     "delete_cmd_prefix": "del ",
     "library": "var_list.py",
     "varRefreshCmd": "print(var_dic_list())"
    },
    "r": {
     "delete_cmd_postfix": ") ",
     "delete_cmd_prefix": "rm(",
     "library": "var_list.r",
     "varRefreshCmd": "cat(var_dic_list()) "
    }
   },
   "types_to_exclude": [
    "module",
    "function",
    "builtin_function_or_method",
    "instance",
    "_Feature"
   ],
   "window_display": false
  }
 },
 "nbformat": 4,
 "nbformat_minor": 5
}
