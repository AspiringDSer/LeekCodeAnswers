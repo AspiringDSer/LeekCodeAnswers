{
 "cells": [
  {
   "cell_type": "markdown",
   "id": "56b5d726",
   "metadata": {},
   "source": [
    "### This is the beginning of the Whiteboarding notebook! \n",
    "\n",
    "I've taken these questions from [StrataScratch](https://www.stratascratch.com/), feel free to take a look for more questions! \n",
    "These questions are more realistic to what we'll be doing for data science as well, which is why I've chosen this resource. \n",
    "\n",
    "--- \n",
    "\n",
    "I'll be linking several whiteboarding questions, and we can all open them separately. \n",
    "\n",
    "\n",
    "*July 16th*\n",
    "\n",
    "[Find libraries who haven't provided the email address in 2016 but their notice preference definition is set to email (EASY)](https://platform.stratascratch.com/coding-question?id=9924&python=)\n",
    "\n",
    "[Find the most profitable company in the financial sector of the entire world along with its continent (EASY)](https://platform.stratascratch.com/coding-question?id=9663&python=)\n",
    "\n",
    "[Clicked Vs Non-Clicked Search Results (MEDIUM)](https://platform.stratascratch.com/coding-question?id=10288&python=)\n",
    "\n",
    "*July 23rd* \n",
    "\n",
    "[Salaries Differences - EASY](https://platform.stratascratch.com/coding/10308-salaries-differences?python=)\n",
    "\n",
    "[Acceptance Rate By Date - MEDIUM](https://platform.stratascratch.com/coding/10285-acceptance-rate-by-date?python=)\n",
    "\n",
    "[Finding Updated Records - EASY](https://platform.stratascratch.com/coding/10299-finding-updated-records?python=)\n",
    "\n",
    "[Finding User Purchases - MEDIUM](https://platform.stratascratch.com/coding/10322-finding-user-purchases?python=)"
   ]
  },
  {
   "cell_type": "code",
   "execution_count": null,
   "id": "c56c6c61",
   "metadata": {},
   "outputs": [],
   "source": []
  }
 ],
 "metadata": {
  "kernelspec": {
   "display_name": "Python 3",
   "language": "python",
   "name": "python3"
  },
  "language_info": {
   "codemirror_mode": {
    "name": "ipython",
    "version": 3
   },
   "file_extension": ".py",
   "mimetype": "text/x-python",
   "name": "python",
   "nbconvert_exporter": "python",
   "pygments_lexer": "ipython3",
   "version": "3.8.8"
  },
  "toc": {
   "base_numbering": 1,
   "nav_menu": {},
   "number_sections": true,
   "sideBar": true,
   "skip_h1_title": false,
   "title_cell": "Table of Contents",
   "title_sidebar": "Contents",
   "toc_cell": false,
   "toc_position": {},
   "toc_section_display": true,
   "toc_window_display": true
  },
  "varInspector": {
   "cols": {
    "lenName": 16,
    "lenType": 16,
    "lenVar": 40
   },
   "kernels_config": {
    "python": {
     "delete_cmd_postfix": "",
     "delete_cmd_prefix": "del ",
     "library": "var_list.py",
     "varRefreshCmd": "print(var_dic_list())"
    },
    "r": {
     "delete_cmd_postfix": ") ",
     "delete_cmd_prefix": "rm(",
     "library": "var_list.r",
     "varRefreshCmd": "cat(var_dic_list()) "
    }
   },
   "types_to_exclude": [
    "module",
    "function",
    "builtin_function_or_method",
    "instance",
    "_Feature"
   ],
   "window_display": false
  }
 },
 "nbformat": 4,
 "nbformat_minor": 5
}
