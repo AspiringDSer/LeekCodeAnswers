{
 "cells": [
  {
   "cell_type": "markdown",
   "id": "deb52e5f",
   "metadata": {},
   "source": [
    "# LeetCode Solutions Notebook"
   ]
  },
  {
   "cell_type": "markdown",
   "id": "158e5903",
   "metadata": {},
   "source": [
    "**Data Scientist Coding Interviews**\n",
    "* Easy to medium level of LeetCode Questions\n",
    "\n",
    "**Data Structures** \n",
    "* Arrays\n",
    "* Hash maps/Dictionary\n",
    "* Heaps\n",
    "* Sets\n",
    "* Stack/Queues \n",
    "* Strings\n",
    "* Tree\n",
    "\n",
    "**Algorithms**\n",
    "* Binary Search\n",
    "* Recursion\n",
    "* Sorting\n",
    "* Dynamic Programming \n",
    "\n",
    "Note: Good [video](https://www.youtube.com/watch?v=hAqg2dlNeUc&t=594s&ab_channel=DataInterviewPro) on DS Coding Interviews. Video explains other aspects of the Interview too"
   ]
  },
  {
   "cell_type": "markdown",
   "id": "95eb6491",
   "metadata": {},
   "source": [
    "### Sample Schedule\n",
    "\n",
    "Week 1: Pick 2 from your list \n",
    "\n",
    "Week 2: Pick 1 from your list + 1 from each non-your-list ^_^ \n",
    "\n",
    "Week 3: Repeat week 2"
   ]
  },
  {
   "cell_type": "markdown",
   "id": "25a93212",
   "metadata": {},
   "source": [
    "NOTE: I'll update the list when needed. Please **BOLD** your question when you have completed and submitted with the answers below. "
   ]
  },
  {
   "cell_type": "markdown",
   "id": "b00e31c5",
   "metadata": {},
   "source": [
    "**Jason**\n",
    "\n",
    "**1528 - Shuffle String**\n",
    "\n",
    "**1512 - Number of Good Pairs** \n",
    "\n",
    "**1480 - Running Sum of 1d Array**\n",
    "\n",
    "**1431 - Kids With the Greatest Number of Candies**\n",
    "\n",
    "1342 - Number of Steps to Reduce a Number to Zero\n",
    "\n",
    "1389 - Create Target Array in the Given Order"
   ]
  },
  {
   "cell_type": "markdown",
   "id": "91b58ab8",
   "metadata": {},
   "source": [
    "**Katya** \n",
    "\n",
    "~1603 - Design Parking System~\n",
    "\n",
    "~771 - Jewels and Stones~\n",
    "\n",
    "~1108 - Defanging an IP Address~\n",
    "\n",
    "~1672 - Richest Customer Wealth~\n",
    "\n",
    "1720 - Decode XORed Array\n",
    "\n",
    "1678 - Goal Parser Interpretation"
   ]
  },
  {
   "cell_type": "markdown",
   "id": "7d757674",
   "metadata": {},
   "source": [
    "**Yash** \n",
    "\n",
    "1470 - Shuffle the Array\n",
    "\n",
    "1365 - How Many Numbers Are Smaller Than the Current Number\n",
    "\n",
    "1929 - Concatenation of Array\n",
    "\n",
    "1920 - Build Array from Permutation\n",
    "\n",
    "1281 - Subtract the Product and Sum of Digits of an Integer\n",
    "\n",
    "1313 - Decompress Run-Length Encoded List"
   ]
  },
  {
   "cell_type": "code",
   "execution_count": null,
   "id": "cd4635dc",
   "metadata": {},
   "outputs": [],
   "source": []
  },
  {
   "cell_type": "markdown",
   "id": "b55fa792",
   "metadata": {},
   "source": [
    "### Example\n",
    "LeekCode Number: 1929 - Concatenation of Array"
   ]
  },
  {
   "cell_type": "code",
   "execution_count": null,
   "id": "a36a995d",
   "metadata": {},
   "outputs": [],
   "source": [
    "# Code + Comments here"
   ]
  },
  {
   "cell_type": "code",
   "execution_count": null,
   "id": "e291a163",
   "metadata": {},
   "outputs": [],
   "source": []
  },
  {
   "cell_type": "markdown",
   "id": "0bf38c8a",
   "metadata": {},
   "source": [
    "### Katya \n",
    "\n",
    "#### 1603 - Design Parking System \n",
    "\n",
    "Design a parking system for a parking lot. The parking lot has three kinds of parking spaces: big, medium, and small, with a fixed number of slots for each size.\n",
    "\n",
    "Implement the ParkingSystem class:\n",
    "\n",
    "- `ParkingSystem(int big, int medium, int small)` Initializes object of the `ParkingSystem` class. The number of slots for each parking space are given as part of the constructor.\n",
    "- `bool` `addCar`(int `carType`) Checks whether there is a parking space of `carType` for the car that wants to get into the parking lot. `carType` can be of three kinds: big, medium, or small, which are represented by 1, 2, and 3 respectively. A car can only park in a parking space of its `carType`. If there is no space available, return false, else park the car in that size space and return true.\n",
    "\n",
    "\n",
    "Input: \n",
    "`[\"ParkingSystem\",\"addCar\",\"addCar\",\"addCar\",\"addCar\"] [[1,1,0],[1],[2],[3],[1]]`"
   ]
  },
  {
   "cell_type": "code",
   "execution_count": 3,
   "id": "41f23452",
   "metadata": {
    "ExecuteTime": {
     "end_time": "2021-07-13T16:48:44.739323Z",
     "start_time": "2021-07-13T16:48:44.731321Z"
    }
   },
   "outputs": [],
   "source": [
    "class ParkingSystem:\n",
    "\n",
    "    def __init__(self, big: int, medium: int, small: int):\n",
    "        # make a list of all car sizes\n",
    "        self.cars = [big, medium, small]\n",
    "\n",
    "    def addCar(self, carType: int) -> bool:\n",
    "        # if the cartype is greater than 0, take a space in the parking lot\n",
    "        if self.cars[carType-1] > 0: \n",
    "            self.cars[carType-1]-=1\n",
    "            return True\n",
    "        else:\n",
    "            return False\n",
    "            \n",
    "\n",
    "\n",
    "# Your ParkingSystem object will be instantiated and called as such:\n",
    "# obj = ParkingSystem(big, medium, small)\n",
    "# param_1 = obj.addCar(carType)\n"
   ]
  },
  {
   "cell_type": "markdown",
   "id": "0d5b09e2",
   "metadata": {},
   "source": [
    "#### 771 - Jewels and Stones\n",
    "\n",
    "You're given strings jewels representing the types of stones that are jewels, and stones representing the stones you have. Each character in stones is a type of stone you have. You want to know how many of the stones you have are also jewels.\n",
    "\n",
    "Letters are case sensitive, so \"a\" is considered a different type of stone from \"A\"."
   ]
  },
  {
   "cell_type": "code",
   "execution_count": 8,
   "id": "fd638c5b",
   "metadata": {
    "ExecuteTime": {
     "end_time": "2021-07-28T13:14:01.038330Z",
     "start_time": "2021-07-28T13:14:01.025327Z"
    }
   },
   "outputs": [],
   "source": [
    "class JewelSolution:\n",
    "    def numJewelsInStones(self, jewels: str, stones: str) -> int:\n",
    "        # takes the sum of the count of jewels and the number of jewels within the stones\n",
    "        return sum(map(jewels.count, stones))"
   ]
  },
  {
   "cell_type": "code",
   "execution_count": 11,
   "id": "1e3124f7",
   "metadata": {
    "ExecuteTime": {
     "end_time": "2021-07-28T13:16:24.820994Z",
     "start_time": "2021-07-28T13:16:24.814992Z"
    }
   },
   "outputs": [
    {
     "name": "stdout",
     "output_type": "stream",
     "text": [
      "7\n"
     ]
    }
   ],
   "source": [
    "Jewel = JewelSolution() \n",
    "\n",
    "print(Jewel.numJewelsInStones('AaBb', 'AaaAABbc'))"
   ]
  },
  {
   "cell_type": "markdown",
   "id": "57290adb",
   "metadata": {},
   "source": [
    "#### 1108 - Defanging an IP Address"
   ]
  },
  {
   "cell_type": "code",
   "execution_count": null,
   "id": "1428c107",
   "metadata": {},
   "outputs": [],
   "source": [
    "Given a valid (IPv4) IP address, return a defanged version of that IP address.\n",
    "\n",
    "A defanged IP address replaces every period \".\" with \"[.]\"."
   ]
  },
  {
   "cell_type": "code",
   "execution_count": 5,
   "id": "b0939f97",
   "metadata": {
    "ExecuteTime": {
     "end_time": "2021-07-28T13:13:16.135652Z",
     "start_time": "2021-07-28T13:13:16.121650Z"
    }
   },
   "outputs": [],
   "source": [
    "class Solution:\n",
    "    def defangIPaddr(self, address: str) -> str:\n",
    "        # replaces . with [.]\n",
    "        return address.replace('.', '[.]')"
   ]
  },
  {
   "cell_type": "code",
   "execution_count": 6,
   "id": "d05982e6",
   "metadata": {
    "ExecuteTime": {
     "end_time": "2021-07-28T13:13:16.815804Z",
     "start_time": "2021-07-28T13:13:16.811805Z"
    }
   },
   "outputs": [
    {
     "name": "stdout",
     "output_type": "stream",
     "text": [
      "1[.]1[.]1[.]1\n"
     ]
    }
   ],
   "source": [
    "solution = Solution() \n",
    "\n",
    "print(solution.defangIPaddr(\"1.1.1.1\"))"
   ]
  },
  {
   "cell_type": "markdown",
   "id": "9e19c8e1",
   "metadata": {},
   "source": [
    "#### 1672. Richest Customer Wealth\n",
    "You are given an m x n integer grid accounts where accounts *i* and *j* is the amount of money the ith customer has in the Jth bank. Return the wealth that the richest customer has.\n",
    "\n",
    "A customer's wealth is the amount of money they have in all their bank accounts. The richest customer is the customer that has the maximum wealth.\n",
    "\n",
    "Input: accounts = [[2,8,7],[7,1,3],[1,9,5]]\n",
    "Output: 17"
   ]
  },
  {
   "cell_type": "code",
   "execution_count": 21,
   "id": "f827d768",
   "metadata": {
    "ExecuteTime": {
     "end_time": "2021-07-28T13:47:04.969934Z",
     "start_time": "2021-07-28T13:47:04.961935Z"
    }
   },
   "outputs": [
    {
     "ename": "TypeError",
     "evalue": "'type' object is not subscriptable",
     "output_type": "error",
     "traceback": [
      "\u001b[1;31m---------------------------------------------------------------------------\u001b[0m",
      "\u001b[1;31mTypeError\u001b[0m                                 Traceback (most recent call last)",
      "\u001b[1;32m<ipython-input-21-da3bf7a68c7b>\u001b[0m in \u001b[0;36m<module>\u001b[1;34m\u001b[0m\n\u001b[1;32m----> 1\u001b[1;33m \u001b[1;32mclass\u001b[0m \u001b[0mSolution\u001b[0m\u001b[1;33m:\u001b[0m\u001b[1;33m\u001b[0m\u001b[1;33m\u001b[0m\u001b[0m\n\u001b[0m\u001b[0;32m      2\u001b[0m     \u001b[1;31m# take in a list of lists\u001b[0m\u001b[1;33m\u001b[0m\u001b[1;33m\u001b[0m\u001b[1;33m\u001b[0m\u001b[0m\n\u001b[0;32m      3\u001b[0m     \u001b[1;32mdef\u001b[0m \u001b[0mmaximumWealth\u001b[0m\u001b[1;33m(\u001b[0m\u001b[0mself\u001b[0m\u001b[1;33m,\u001b[0m \u001b[0maccounts\u001b[0m\u001b[1;33m:\u001b[0m \u001b[0mlist\u001b[0m\u001b[1;33m[\u001b[0m\u001b[0mlist\u001b[0m\u001b[1;33m[\u001b[0m\u001b[0mint\u001b[0m\u001b[1;33m]\u001b[0m\u001b[1;33m]\u001b[0m\u001b[1;33m)\u001b[0m \u001b[1;33m->\u001b[0m \u001b[0mint\u001b[0m\u001b[1;33m:\u001b[0m\u001b[1;33m\u001b[0m\u001b[1;33m\u001b[0m\u001b[0m\n\u001b[0;32m      4\u001b[0m         \u001b[1;31m# take the sum of each list of lists\u001b[0m\u001b[1;33m\u001b[0m\u001b[1;33m\u001b[0m\u001b[1;33m\u001b[0m\u001b[0m\n\u001b[0;32m      5\u001b[0m         \u001b[0mmylist\u001b[0m \u001b[1;33m=\u001b[0m \u001b[0mlist\u001b[0m\u001b[1;33m(\u001b[0m\u001b[0mmap\u001b[0m\u001b[1;33m(\u001b[0m\u001b[0msum\u001b[0m\u001b[1;33m,\u001b[0m \u001b[0maccounts\u001b[0m\u001b[1;33m)\u001b[0m\u001b[1;33m)\u001b[0m\u001b[1;33m\u001b[0m\u001b[1;33m\u001b[0m\u001b[0m\n",
      "\u001b[1;32m<ipython-input-21-da3bf7a68c7b>\u001b[0m in \u001b[0;36mSolution\u001b[1;34m()\u001b[0m\n\u001b[0;32m      1\u001b[0m \u001b[1;32mclass\u001b[0m \u001b[0mSolution\u001b[0m\u001b[1;33m:\u001b[0m\u001b[1;33m\u001b[0m\u001b[1;33m\u001b[0m\u001b[0m\n\u001b[0;32m      2\u001b[0m     \u001b[1;31m# take in a list of lists\u001b[0m\u001b[1;33m\u001b[0m\u001b[1;33m\u001b[0m\u001b[1;33m\u001b[0m\u001b[0m\n\u001b[1;32m----> 3\u001b[1;33m     \u001b[1;32mdef\u001b[0m \u001b[0mmaximumWealth\u001b[0m\u001b[1;33m(\u001b[0m\u001b[0mself\u001b[0m\u001b[1;33m,\u001b[0m \u001b[0maccounts\u001b[0m\u001b[1;33m:\u001b[0m \u001b[0mlist\u001b[0m\u001b[1;33m[\u001b[0m\u001b[0mlist\u001b[0m\u001b[1;33m[\u001b[0m\u001b[0mint\u001b[0m\u001b[1;33m]\u001b[0m\u001b[1;33m]\u001b[0m\u001b[1;33m)\u001b[0m \u001b[1;33m->\u001b[0m \u001b[0mint\u001b[0m\u001b[1;33m:\u001b[0m\u001b[1;33m\u001b[0m\u001b[1;33m\u001b[0m\u001b[0m\n\u001b[0m\u001b[0;32m      4\u001b[0m         \u001b[1;31m# take the sum of each list of lists\u001b[0m\u001b[1;33m\u001b[0m\u001b[1;33m\u001b[0m\u001b[1;33m\u001b[0m\u001b[0m\n\u001b[0;32m      5\u001b[0m         \u001b[0mmylist\u001b[0m \u001b[1;33m=\u001b[0m \u001b[0mlist\u001b[0m\u001b[1;33m(\u001b[0m\u001b[0mmap\u001b[0m\u001b[1;33m(\u001b[0m\u001b[0msum\u001b[0m\u001b[1;33m,\u001b[0m \u001b[0maccounts\u001b[0m\u001b[1;33m)\u001b[0m\u001b[1;33m)\u001b[0m\u001b[1;33m\u001b[0m\u001b[1;33m\u001b[0m\u001b[0m\n",
      "\u001b[1;31mTypeError\u001b[0m: 'type' object is not subscriptable"
     ]
    }
   ],
   "source": [
    "#this works fine in leetcode, unsure why it doesn't work here\n",
    "\n",
    "class Solution:\n",
    "    # take in a list of lists\n",
    "    def maximumWealth(self, accounts: list[list[int]]) -> int:\n",
    "        # take the sum of each list of lists\n",
    "        mylist = list(map(sum, accounts))\n",
    "        # take the max value from the lists\n",
    "        maxvalue = max(mylist)\n",
    "        return maxvalue"
   ]
  },
  {
   "cell_type": "markdown",
   "id": "3001e8d9",
   "metadata": {},
   "source": [
    "#### 1720. Decode XORed Array\n",
    "There is a hidden integer array arr that consists of n non-negative integers.\n",
    "\n",
    "It was encoded into another integer array encoded of length n - 1, such that encoded[i] = arr[i] XOR arr[i + 1]. For example, if arr = [1,0,2,1], then encoded = [1,2,3].\n",
    "\n",
    "You are given the encoded array. You are also given an integer first, that is the first element of arr, i.e. arr[0].\n",
    "\n",
    "Return the original array arr. It can be proved that the answer exists and is unique."
   ]
  },
  {
   "cell_type": "code",
   "execution_count": 25,
   "id": "8ba02e90",
   "metadata": {
    "ExecuteTime": {
     "end_time": "2021-07-28T14:03:34.250736Z",
     "start_time": "2021-07-28T14:03:34.234732Z"
    }
   },
   "outputs": [
    {
     "ename": "TypeError",
     "evalue": "'type' object is not subscriptable",
     "output_type": "error",
     "traceback": [
      "\u001b[1;31m---------------------------------------------------------------------------\u001b[0m",
      "\u001b[1;31mTypeError\u001b[0m                                 Traceback (most recent call last)",
      "\u001b[1;32m<ipython-input-25-b503ef9c7048>\u001b[0m in \u001b[0;36m<module>\u001b[1;34m\u001b[0m\n\u001b[0;32m      1\u001b[0m \u001b[1;31m# works fine in leetcode too..\u001b[0m\u001b[1;33m\u001b[0m\u001b[1;33m\u001b[0m\u001b[1;33m\u001b[0m\u001b[0m\n\u001b[1;32m----> 2\u001b[1;33m \u001b[1;32mclass\u001b[0m \u001b[0mSolution\u001b[0m\u001b[1;33m:\u001b[0m\u001b[1;33m\u001b[0m\u001b[1;33m\u001b[0m\u001b[0m\n\u001b[0m\u001b[0;32m      3\u001b[0m     \u001b[1;32mdef\u001b[0m \u001b[0mdecode\u001b[0m\u001b[1;33m(\u001b[0m\u001b[0mself\u001b[0m\u001b[1;33m,\u001b[0m \u001b[0mencoded\u001b[0m\u001b[1;33m:\u001b[0m \u001b[0mlist\u001b[0m\u001b[1;33m[\u001b[0m\u001b[0mint\u001b[0m\u001b[1;33m]\u001b[0m\u001b[1;33m,\u001b[0m \u001b[0mfirst\u001b[0m\u001b[1;33m:\u001b[0m \u001b[0mint\u001b[0m\u001b[1;33m)\u001b[0m \u001b[1;33m->\u001b[0m \u001b[0mList\u001b[0m\u001b[1;33m[\u001b[0m\u001b[0mint\u001b[0m\u001b[1;33m]\u001b[0m\u001b[1;33m:\u001b[0m\u001b[1;33m\u001b[0m\u001b[1;33m\u001b[0m\u001b[0m\n\u001b[0;32m      4\u001b[0m         \u001b[1;32mreturn\u001b[0m \u001b[0mlist\u001b[0m\u001b[1;33m(\u001b[0m\u001b[0maccumulate\u001b[0m\u001b[1;33m(\u001b[0m\u001b[1;33m[\u001b[0m\u001b[0mfirst\u001b[0m\u001b[1;33m]\u001b[0m \u001b[1;33m+\u001b[0m \u001b[0mencoded\u001b[0m\u001b[1;33m,\u001b[0m \u001b[1;32mlambda\u001b[0m \u001b[0mx\u001b[0m\u001b[1;33m,\u001b[0m \u001b[0my\u001b[0m\u001b[1;33m:\u001b[0m \u001b[0mx\u001b[0m \u001b[1;33m^\u001b[0m \u001b[0my\u001b[0m\u001b[1;33m)\u001b[0m\u001b[1;33m)\u001b[0m\u001b[1;33m\u001b[0m\u001b[1;33m\u001b[0m\u001b[0m\n",
      "\u001b[1;32m<ipython-input-25-b503ef9c7048>\u001b[0m in \u001b[0;36mSolution\u001b[1;34m()\u001b[0m\n\u001b[0;32m      1\u001b[0m \u001b[1;31m# works fine in leetcode too..\u001b[0m\u001b[1;33m\u001b[0m\u001b[1;33m\u001b[0m\u001b[1;33m\u001b[0m\u001b[0m\n\u001b[0;32m      2\u001b[0m \u001b[1;32mclass\u001b[0m \u001b[0mSolution\u001b[0m\u001b[1;33m:\u001b[0m\u001b[1;33m\u001b[0m\u001b[1;33m\u001b[0m\u001b[0m\n\u001b[1;32m----> 3\u001b[1;33m     \u001b[1;32mdef\u001b[0m \u001b[0mdecode\u001b[0m\u001b[1;33m(\u001b[0m\u001b[0mself\u001b[0m\u001b[1;33m,\u001b[0m \u001b[0mencoded\u001b[0m\u001b[1;33m:\u001b[0m \u001b[0mlist\u001b[0m\u001b[1;33m[\u001b[0m\u001b[0mint\u001b[0m\u001b[1;33m]\u001b[0m\u001b[1;33m,\u001b[0m \u001b[0mfirst\u001b[0m\u001b[1;33m:\u001b[0m \u001b[0mint\u001b[0m\u001b[1;33m)\u001b[0m \u001b[1;33m->\u001b[0m \u001b[0mList\u001b[0m\u001b[1;33m[\u001b[0m\u001b[0mint\u001b[0m\u001b[1;33m]\u001b[0m\u001b[1;33m:\u001b[0m\u001b[1;33m\u001b[0m\u001b[1;33m\u001b[0m\u001b[0m\n\u001b[0m\u001b[0;32m      4\u001b[0m         \u001b[1;32mreturn\u001b[0m \u001b[0mlist\u001b[0m\u001b[1;33m(\u001b[0m\u001b[0maccumulate\u001b[0m\u001b[1;33m(\u001b[0m\u001b[1;33m[\u001b[0m\u001b[0mfirst\u001b[0m\u001b[1;33m]\u001b[0m \u001b[1;33m+\u001b[0m \u001b[0mencoded\u001b[0m\u001b[1;33m,\u001b[0m \u001b[1;32mlambda\u001b[0m \u001b[0mx\u001b[0m\u001b[1;33m,\u001b[0m \u001b[0my\u001b[0m\u001b[1;33m:\u001b[0m \u001b[0mx\u001b[0m \u001b[1;33m^\u001b[0m \u001b[0my\u001b[0m\u001b[1;33m)\u001b[0m\u001b[1;33m)\u001b[0m\u001b[1;33m\u001b[0m\u001b[1;33m\u001b[0m\u001b[0m\n",
      "\u001b[1;31mTypeError\u001b[0m: 'type' object is not subscriptable"
     ]
    }
   ],
   "source": [
    "# works fine in leetcode too.. \n",
    "class Solution:\n",
    "    def decode(self, encoded: list[int], first: int) -> List[int]:\n",
    "        return list(accumulate([first] + encoded, lambda x, y: x ^ y))"
   ]
  },
  {
   "cell_type": "code",
   "execution_count": null,
   "id": "2512ee2f",
   "metadata": {},
   "outputs": [],
   "source": []
  },
  {
   "cell_type": "markdown",
   "id": "bf2fed5d",
   "metadata": {},
   "source": [
    "### Jason\n",
    "\n",
    "#### 1528 - Shuffle String"
   ]
  },
  {
   "cell_type": "code",
   "execution_count": 6,
   "id": "21845a87",
   "metadata": {},
   "outputs": [],
   "source": [
    "s = \"codeleet\"\n",
    "indices = [4,5,6,7,0,2,1,3]\n",
    "# Expected: leetcode"
   ]
  },
  {
   "cell_type": "code",
   "execution_count": 4,
   "id": "965b24e4",
   "metadata": {},
   "outputs": [],
   "source": [
    "# Edge Cases \n",
    "s = \"aaiougrt\"\n",
    "indices = [4,0,2,6,7,3,1,5]\n",
    "# Expected: arigatou "
   ]
  },
  {
   "cell_type": "code",
   "execution_count": 7,
   "id": "177bc6fe",
   "metadata": {},
   "outputs": [
    {
     "name": "stdout",
     "output_type": "stream",
     "text": [
      "codeleet\n"
     ]
    }
   ],
   "source": [
    "# find the length of s \n",
    "N = len(s)\n",
    "\n",
    "# create a list with N number of empty strings \n",
    "a = [\"\"] * N\n",
    "\n",
    "# i = The count of the current iteration   x = The value of the item at the current iteration\n",
    "# using enumerate allows us to use the values as the index set (SUPER IMPORTANT)\n",
    "for i, x in enumerate(indices): \n",
    "    \n",
    "    # \"list a\" at index x will equal to s at index x \n",
    "    a[x] = s[x]\n",
    "    \n",
    "    # Join all items from \"list a\" into a string, using \"\" as a character separator. Note \"\" is NOT an empty space.\n",
    "print(\"\".join(a))"
   ]
  },
  {
   "cell_type": "code",
   "execution_count": 3,
   "id": "0d95920f",
   "metadata": {},
   "outputs": [
    {
     "name": "stdout",
     "output_type": "stream",
     "text": [
      "0 4\n",
      "1 5\n",
      "2 6\n",
      "3 7\n",
      "4 0\n",
      "5 2\n",
      "6 1\n",
      "7 3\n"
     ]
    }
   ],
   "source": [
    "# for illustrative purposes - we will set x as the indexing set, typically i would be \n",
    "for i, x in enumerate(indices):\n",
    "    print(i, x)"
   ]
  },
  {
   "cell_type": "markdown",
   "id": "b1ac1bd1",
   "metadata": {},
   "source": [
    "**1512 - Number of Good Pairs**"
   ]
  },
  {
   "cell_type": "code",
   "execution_count": 1,
   "id": "bda946e4",
   "metadata": {},
   "outputs": [],
   "source": [
    "nums = [1,2,3,1,1,3]\n",
    "# Expected Output: 4\n",
    "# Explanation: There are 4 good pairs (0,3), (0,4), (3,4), (2,5) 0-indexed"
   ]
  },
  {
   "cell_type": "code",
   "execution_count": null,
   "id": "55e176a6",
   "metadata": {},
   "outputs": [],
   "source": [
    "# edge cases\n",
    "\n",
    "nums = [1,1,1,1]\n",
    "# Expected Output: 6\n",
    "# Explanation: Each pair in the array are good."
   ]
  },
  {
   "cell_type": "code",
   "execution_count": null,
   "id": "7c8d352c",
   "metadata": {},
   "outputs": [],
   "source": [
    "nums = [1,2,3]\n",
    "# Expected Output: 0"
   ]
  },
  {
   "cell_type": "code",
   "execution_count": 2,
   "id": "8f8d194f",
   "metadata": {},
   "outputs": [
    {
     "name": "stdout",
     "output_type": "stream",
     "text": [
      "{1: 1, 2: 1, 3: 1}\n",
      "{1: 2, 2: 1, 3: 1}\n",
      "{1: 3, 2: 1, 3: 1}\n",
      "4\n"
     ]
    }
   ],
   "source": [
    "# initialize counter + empty dictionary \n",
    "counter = 0\n",
    "dic = {}\n",
    "\n",
    "# loop through each element in \"list nums\"\n",
    "for element in nums:\n",
    "    \n",
    "    # if element is a key in dictionary \n",
    "    if element in dic:\n",
    "        \n",
    "        # added print here for visual purposes \n",
    "        print(dic)\n",
    "        \n",
    "        # add the value of dic[element] to counter \n",
    "        counter += dic[element]\n",
    "        dic[element] += 1 \n",
    "    \n",
    "    # if the element is not a key in the dictionary \n",
    "    # create a key in the dictionary with a value of 1 \n",
    "    # we choose 1 because it represents the first time the unique element has been counted  \n",
    "    else:\n",
    "        dic[element] = 1\n",
    "\n",
    "print(counter)"
   ]
  },
  {
   "cell_type": "code",
   "execution_count": 3,
   "id": "5dd499f4",
   "metadata": {},
   "outputs": [
    {
     "name": "stdout",
     "output_type": "stream",
     "text": [
      "The original list: [1, 2, 3, 1, 1, 3]\n",
      "All possible pairs: [(1, 2), (1, 3), (1, 1), (1, 1), (1, 3), (2, 3), (2, 1), (2, 1), (2, 3), (3, 1), (3, 1), (3, 3), (1, 1), (1, 3), (1, 3)]\n"
     ]
    }
   ],
   "source": [
    "# Bonus - Finding all possible pairs + to visually verify edge cases \n",
    "\n",
    "# printing original list\n",
    "print(\"The original list: \" + str(nums))\n",
    "\n",
    "# All possible pairs in list\n",
    "# Using list comprehension + enumerate()\n",
    "\n",
    "# enumerate pythonically provides index + value respectively \n",
    "# list comprehension works as both for loops are equal in length\n",
    "# \n",
    "pairs = [(a, b) for idx, a in enumerate(nums) for b in nums[idx + 1:]]\n",
    "\n",
    "# printing result\n",
    "print('All possible pairs: ' + str(pairs))"
   ]
  },
  {
   "cell_type": "markdown",
   "id": "7c20531c",
   "metadata": {},
   "source": [
    "**1480 - Running Sum of 1d Array**"
   ]
  },
  {
   "cell_type": "code",
   "execution_count": 1,
   "id": "2a006ad5",
   "metadata": {},
   "outputs": [],
   "source": [
    "nums = [1,2,3,4]\n",
    "# Expected Output: [1,3,6,10]\n",
    "# Explanation: Running sum is obtained as follows: [1, 1+2, 1+2+3, 1+2+3+4]."
   ]
  },
  {
   "cell_type": "code",
   "execution_count": null,
   "id": "418aa6f4",
   "metadata": {},
   "outputs": [],
   "source": [
    "# Edge Cases\n",
    "nums = [1,1,1,1,1]\n",
    "# Expected Output: [1,2,3,4,5]\n",
    "# Explanation: Running sum is obtained as follows: [1, 1+1, 1+1+1, 1+1+1+1, 1+1+1+1+1]."
   ]
  },
  {
   "cell_type": "code",
   "execution_count": null,
   "id": "874127ba",
   "metadata": {},
   "outputs": [],
   "source": [
    "nums = [3,1,2,10,1]\n",
    "# Expected Output: [3,4,6,16,17]"
   ]
  },
  {
   "cell_type": "code",
   "execution_count": 2,
   "id": "88864450",
   "metadata": {},
   "outputs": [
    {
     "name": "stdout",
     "output_type": "stream",
     "text": [
      "[1, 3, 6, 10]\n"
     ]
    }
   ],
   "source": [
    "# first we need to find the positions we need to loop through\n",
    "\n",
    "# start from 1 till len(nums)     len(nums) = 4   -> 0, 1, 2, 3     therefore range(1,len(nums)) = 1, 2, 3\n",
    "for i in range(1, len(nums)):\n",
    "    \n",
    "    # running sum starting from position 1      +=  -> adds nums[i-1] to current position\n",
    "    # list updates each iteration \n",
    "    nums[i] += nums[i - 1]\n",
    "    \n",
    "print(nums)"
   ]
  },
  {
   "cell_type": "markdown",
   "id": "0e12e3c6",
   "metadata": {},
   "source": [
    "**1431 - Kids With the Greatest Number of Candies**"
   ]
  },
  {
   "cell_type": "code",
   "execution_count": 1,
   "id": "83ad9fa0",
   "metadata": {},
   "outputs": [],
   "source": [
    "candies = [2,3,5,1,3]\n",
    "extraCandies = 3\n",
    "# Expected Output: [true,true,true,false,true] \n",
    "# Explanation: If you give all extraCandies to:\n",
    "# - Kid 1, they will have 2 + 3 = 5 candies, which is the greatest among the kids.\n",
    "# - Kid 2, they will have 3 + 3 = 6 candies, which is the greatest among the kids.\n",
    "# - Kid 3, they will have 5 + 3 = 8 candies, which is the greatest among the kids.\n",
    "# - Kid 4, they will have 1 + 3 = 4 candies, which is not the greatest among the kids.\n",
    "# - Kid 5, they will have 3 + 3 = 6 candies, which is the greatest among the kids."
   ]
  },
  {
   "cell_type": "code",
   "execution_count": null,
   "id": "afbbf1c5",
   "metadata": {},
   "outputs": [],
   "source": [
    "# Edge Cases\n",
    "candies = [4,2,1,1,2]\n",
    "extraCandies = 1\n",
    "# Expected Output: [true,false,false,false,false] \n",
    "# Explanation: There is only 1 extra candy.\n",
    "# Kid 1 will always have the greatest number of candies, even if a different kid is given the extra candy."
   ]
  },
  {
   "cell_type": "code",
   "execution_count": null,
   "id": "fe407cb2",
   "metadata": {},
   "outputs": [],
   "source": [
    "candies = [12,1,12]\n",
    "extraCandies = 10\n",
    "# Expected Output: [true,false,true]"
   ]
  },
  {
   "cell_type": "code",
   "execution_count": 2,
   "id": "277b6ef8",
   "metadata": {},
   "outputs": [
    {
     "name": "stdout",
     "output_type": "stream",
     "text": [
      "[True, True, True, False, True]\n"
     ]
    }
   ],
   "source": [
    "# find max value from candies \n",
    "# Check if candies[i] + extraCandies = new greatest value\n",
    "# If yes return True, If no return False\n",
    "# Repeat for all\n",
    "\n",
    "# creating output list\n",
    "output = []\n",
    "\n",
    "# finding the highest value in candies list  \n",
    "most_candies = max(candies)\n",
    "\n",
    "# loop through the candies list\n",
    "for i in range(len(candies)):\n",
    "    \n",
    "    # new candy amount - We could have reduced this line to the if statement line\n",
    "    new_candy_amount = candies[i] + extraCandies\n",
    "    \n",
    "    # if new amount is greater than equal to most_candies \n",
    "    if new_candy_amount >= most_candies:\n",
    "        output.append(True)\n",
    "    else:\n",
    "        output.append(False)\n",
    "print(output)"
   ]
  },
  {
   "cell_type": "code",
   "execution_count": null,
   "id": "7f3c7acb",
   "metadata": {},
   "outputs": [],
   "source": [
    "# Bonus - 1 liner I found in the solutions \n",
    "\n",
    "# list comprehension \n",
    "return[candy+extraCandies >= maxCandies for candy in candies]"
   ]
  },
  {
   "cell_type": "code",
   "execution_count": null,
   "id": "5d8ab7b4",
   "metadata": {},
   "outputs": [],
   "source": []
  }
 ],
 "metadata": {
  "hide_input": false,
  "kernelspec": {
   "display_name": "Python 3",
   "language": "python",
   "name": "python3"
  },
  "language_info": {
   "codemirror_mode": {
    "name": "ipython",
    "version": 3
   },
   "file_extension": ".py",
   "mimetype": "text/x-python",
   "name": "python",
   "nbconvert_exporter": "python",
   "pygments_lexer": "ipython3",
   "version": "3.8.8"
  },
  "toc": {
   "base_numbering": 1,
   "nav_menu": {},
   "number_sections": true,
   "sideBar": true,
   "skip_h1_title": false,
   "title_cell": "Table of Contents",
   "title_sidebar": "Contents",
   "toc_cell": false,
   "toc_position": {},
   "toc_section_display": true,
   "toc_window_display": false
  },
  "varInspector": {
   "cols": {
    "lenName": 16,
    "lenType": 16,
    "lenVar": 40
   },
   "kernels_config": {
    "python": {
     "delete_cmd_postfix": "",
     "delete_cmd_prefix": "del ",
     "library": "var_list.py",
     "varRefreshCmd": "print(var_dic_list())"
    },
    "r": {
     "delete_cmd_postfix": ") ",
     "delete_cmd_prefix": "rm(",
     "library": "var_list.r",
     "varRefreshCmd": "cat(var_dic_list()) "
    }
   },
   "types_to_exclude": [
    "module",
    "function",
    "builtin_function_or_method",
    "instance",
    "_Feature"
   ],
   "window_display": false
  }
 },
 "nbformat": 4,
 "nbformat_minor": 5
}
