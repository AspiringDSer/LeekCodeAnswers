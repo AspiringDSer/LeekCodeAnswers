{
 "cells": [
  {
   "cell_type": "markdown",
   "id": "deb52e5f",
   "metadata": {},
   "source": [
    "# LeekCode Solutions Notebook"
   ]
  },
  {
   "cell_type": "markdown",
   "id": "95eb6491",
   "metadata": {},
   "source": [
    "**Sample Schedule** \n",
    "\n",
    "Week 1: Pick 2 from your list \n",
    "\n",
    "Week 2: Pick 1 from your list + 1 from each non-your-list ^_^ \n",
    "\n",
    "Week 3: Repeat week 2"
   ]
  },
  {
   "cell_type": "markdown",
   "id": "25a93212",
   "metadata": {},
   "source": [
    "**NOTE** I'll update the list when needed. Please **BOLD** your question when you have completed and submitted with the answers below. "
   ]
  },
  {
   "cell_type": "markdown",
   "id": "b00e31c5",
   "metadata": {},
   "source": [
    "**Jason**\n",
    "\n",
    "1528 - Shuffle String\n",
    "\n",
    "1512 - Number of Good Pairs \n",
    "\n",
    "1480 - Running Sum of 1d Array\n",
    "\n",
    "1431 - Kids With the Greatest Number of Candies"
   ]
  },
  {
   "cell_type": "markdown",
   "id": "91b58ab8",
   "metadata": {},
   "source": [
    "**Katya** \n",
    "\n",
    "1603 - Design Parking System\n",
    "\n",
    "771 - Jewels and Stones\n",
    "\n",
    "1108 - Defanging an IP Address\n",
    "\n",
    "1672 - Richest Customer Wealth"
   ]
  },
  {
   "cell_type": "markdown",
   "id": "7d757674",
   "metadata": {},
   "source": [
    "**Yash** \n",
    "\n",
    "1470 - Shuffle the Array\n",
    "\n",
    "1365 - How Many Numbers Are Smaller Than the Current Number\n",
    "\n",
    "1929 - Concatenation of Array\n",
    "\n",
    "1920 - Build Array from Permutation"
   ]
  },
  {
   "cell_type": "code",
   "execution_count": null,
   "id": "eb4e803a",
   "metadata": {},
   "outputs": [],
   "source": []
  },
  {
   "cell_type": "markdown",
   "id": "b55fa792",
   "metadata": {},
   "source": [
    "**Example**\n",
    "LeekCode Number: 1929 - Concatenation of Array"
   ]
  },
  {
   "cell_type": "code",
   "execution_count": null,
   "id": "a36a995d",
   "metadata": {},
   "outputs": [],
   "source": [
    "# Code + Comments here"
   ]
  },
  {
   "cell_type": "code",
   "execution_count": null,
   "id": "cd1e497e",
   "metadata": {},
   "outputs": [],
   "source": []
  },
  {
   "cell_type": "code",
   "execution_count": null,
   "id": "a3252a9e",
   "metadata": {},
   "outputs": [],
   "source": []
  },
  {
   "cell_type": "code",
   "execution_count": null,
   "id": "b4d80a40",
   "metadata": {},
   "outputs": [],
   "source": []
  }
 ],
 "metadata": {
  "hide_input": false,
  "kernelspec": {
   "display_name": "Python 3",
   "language": "python",
   "name": "python3"
  },
  "language_info": {
   "codemirror_mode": {
    "name": "ipython",
    "version": 3
   },
   "file_extension": ".py",
   "mimetype": "text/x-python",
   "name": "python",
   "nbconvert_exporter": "python",
   "pygments_lexer": "ipython3",
   "version": "3.8.8"
  }
 },
 "nbformat": 4,
 "nbformat_minor": 5
}
